{
 "cells": [
  {
   "cell_type": "code",
   "execution_count": 2,
   "id": "9d706749-5811-4675-9170-8464a40e3800",
   "metadata": {},
   "outputs": [],
   "source": [
    "from federated_learning.utils import VMUtil\n",
    "from federated_learning import Configuration"
   ]
  },
  {
   "cell_type": "code",
   "execution_count": 11,
   "id": "447646b8-adc2-456e-b035-cdefceb436a7",
   "metadata": {},
   "outputs": [
    {
     "name": "stdout",
     "output_type": "stream",
     "text": [
      "Delete old metrics from client_accuracy with experiment_type='shap_fl_poisoned'\n",
      "Delete old metrics from client_recall with experiment_type='shap_fl_poisoned'\n",
      "Delete old metrics from client_precision with experiment_type='shap_fl_poisoned'\n",
      "Delete old metrics from client_shap_pos with experiment_type='shap_fl_poisoned'\n",
      "Delete old metrics from client_shap_neg with experiment_type='shap_fl_poisoned'\n",
      "Delete old metrics from client_shap_mean with experiment_type='shap_fl_poisoned'\n",
      "Delete old metrics from client_shap_pos_mean with experiment_type='shap_fl_poisoned'\n",
      "Delete old metrics from client_shap_neg_mean with experiment_type='shap_fl_poisoned'\n",
      "Delete old metrics from client_test with experiment_type='shap_fl_poisoned'\n"
     ]
    }
   ],
   "source": [
    "configs = Configuration()\n",
    "vm = VMUtil(configs)\n",
    "vm.delete_old_metrics('client', [\"accuracy\", \"recall\", \"precision\", \"shap_pos\", \"shap_neg\", \"shap_mean\", \"shap_pos_mean\", \"shap_neg_mean\", \"test\"], \"experiment_type='shap_fl_poisoned',test='False',poisoned_clients='200'\")"
   ]
  },
  {
   "cell_type": "code",
   "execution_count": 3,
   "id": "2620a54b-c8dd-4756-8ab8-8094b01e6a6a",
   "metadata": {},
   "outputs": [
    {
     "name": "stdout",
     "output_type": "stream",
     "text": [
      "Delete old metrics from server_accuracy with experiment_type='shap_fl_poisoned',test='False',poisoned_clients='200'\n",
      "Delete old metrics from server_recall with experiment_type='shap_fl_poisoned',test='False',poisoned_clients='200'\n",
      "Delete old metrics from server_precision with experiment_type='shap_fl_poisoned',test='False',poisoned_clients='200'\n",
      "Delete old metrics from server_shap_pos with experiment_type='shap_fl_poisoned',test='False',poisoned_clients='200'\n",
      "Delete old metrics from server_shap_neg with experiment_type='shap_fl_poisoned',test='False',poisoned_clients='200'\n",
      "Delete old metrics from server_shap_mean with experiment_type='shap_fl_poisoned',test='False',poisoned_clients='200'\n",
      "Delete old metrics from server_shap_pos_mean with experiment_type='shap_fl_poisoned',test='False',poisoned_clients='200'\n",
      "Delete old metrics from server_shap_neg_mean with experiment_type='shap_fl_poisoned',test='False',poisoned_clients='200'\n",
      "Delete old metrics from server_test with experiment_type='shap_fl_poisoned',test='False',poisoned_clients='200'\n"
     ]
    }
   ],
   "source": [
    "configs = Configuration()\n",
    "vm = VMUtil(configs)\n",
    "vm.delete_old_metrics('server', [\"accuracy\", \"recall\", \"precision\", \"shap_pos\", \"shap_neg\", \"shap_mean\", \"shap_pos_mean\", \"shap_neg_mean\", \"test\"], \"experiment_type='shap_fl_poisoned',test='False',poisoned_clients='200'\")"
   ]
  }
 ],
 "metadata": {
  "kernelspec": {
   "display_name": "Python 3 (ipykernel)",
   "language": "python",
   "name": "python3"
  },
  "language_info": {
   "codemirror_mode": {
    "name": "ipython",
    "version": 3
   },
   "file_extension": ".py",
   "mimetype": "text/x-python",
   "name": "python",
   "nbconvert_exporter": "python",
   "pygments_lexer": "ipython3",
   "version": "3.9.12"
  }
 },
 "nbformat": 4,
 "nbformat_minor": 5
}
