{
 "cells": [
  {
   "cell_type": "code",
   "execution_count": null,
   "id": "9d706749-5811-4675-9170-8464a40e3800",
   "metadata": {},
   "outputs": [],
   "source": [
    "from federated_learning.utils import VMUtil\n",
    "from federated_learning import Configuration"
   ]
  },
  {
   "cell_type": "code",
   "execution_count": null,
   "id": "447646b8-adc2-456e-b035-cdefceb436a7",
   "metadata": {},
   "outputs": [],
   "source": [
    "configs = Configuration()\n",
    "vm = VMUtil(configs)\n",
    "vm.delete_old_metrics('client', [\"accuracy\", \"recall\", \"precision\", \"shap_pos\", \"shap_neg\", \"shap_mean\", \"shap_pos_mean\", \"shap_neg_mean\", \"test\"], \"experiment_type='shap_fl_poisoned',test='False',poisoned_clients='200'\")"
   ]
  },
  {
   "cell_type": "code",
   "execution_count": null,
   "id": "2620a54b-c8dd-4756-8ab8-8094b01e6a6a",
   "metadata": {},
   "outputs": [],
   "source": [
    "configs = Configuration()\n",
    "vm = VMUtil(configs)\n",
    "vm.delete_old_metrics('server', [\"accuracy\", \"recall\", \"precision\", \"shap_pos\", \"shap_neg\", \"shap_mean\", \"shap_pos_mean\", \"shap_neg_mean\", \"test\"], \"experiment_type='shap_fl_poisoned',test='False',poisoned_clients='200'\")"
   ]
  }
 ],
 "metadata": {
  "kernelspec": {
   "display_name": "Python 3 (ipykernel)",
   "language": "python",
   "name": "python3"
  },
  "language_info": {
   "codemirror_mode": {
    "name": "ipython",
    "version": 3
   },
   "file_extension": ".py",
   "mimetype": "text/x-python",
   "name": "python",
   "nbconvert_exporter": "python",
   "pygments_lexer": "ipython3",
   "version": "3.10.5"
  }
 },
 "nbformat": 4,
 "nbformat_minor": 5
}
