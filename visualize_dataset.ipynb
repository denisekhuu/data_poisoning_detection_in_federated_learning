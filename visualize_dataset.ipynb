{
 "cells": [
  {
   "cell_type": "code",
   "execution_count": null,
   "id": "015e15c9-354a-4438-a76f-1586f6358573",
   "metadata": {},
   "outputs": [],
   "source": [
    "import torch, torchvision\n",
    "from torchvision import datasets, transforms\n",
    "from torch import nn, optim\n",
    "from torch.nn import functional as F\n",
    "\n",
    "import numpy as np\n",
    "import shap"
   ]
  },
  {
   "cell_type": "code",
   "execution_count": null,
   "id": "ff583899-341f-4978-88d9-2036118369a9",
   "metadata": {},
   "outputs": [],
   "source": [
    "def plot_images(images, targets, indices):\n",
    "    \"\"\"\n",
    "    Plot sample images and their target labels\n",
    "    \"\"\"\n",
    "    import matplotlib.pyplot as plt\n",
    "    fig = plt.figure()\n",
    "    for i, idx in enumerate(indices):\n",
    "        plt.subplot(3,4,i+1)\n",
    "        plt.tight_layout()\n",
    "        plt.imshow(images[idx][0], cmap='gray', interpolation='none')\n",
    "        plt.title(\"Ground Truth: {}\".format(targets[idx]))\n",
    "        plt.xticks([])\n",
    "        plt.yticks([])\n",
    "    plt.savefig('cifar10.png')\n",
    "    plt.show()\n",
    "    \n",
    "def get_sample(images, targets):\n",
    "        \"\"\"\n",
    "        Get last occurence of a label in target sample\n",
    "        return int[]\n",
    "        \"\"\"\n",
    "        indices=[]\n",
    "        for i in range(10):\n",
    "            try:\n",
    "                index = torch.where(targets==i)\n",
    "                indices.append(index[0][-1].item())\n",
    "            except: \n",
    "                print(\"does not exist\")\n",
    "        return images[indices], indices\n",
    "\n",
    "def imshow(img):\n",
    "    import matplotlib.pyplot as plt\n",
    "    img = img / 2 + 0.5     # unnormalize\n",
    "    npimg = img.numpy()\n",
    "    plt.imshow(np.transpose(npimg, (1, 2, 0)))\n",
    "    \n",
    "def plot_cifar10_images(images, targets, indices):\n",
    "    import matplotlib.pyplot as plt\n",
    "    classes = ['Plane', 'Car', 'Bird', 'Cat','Deer', 'Dog', 'Frog', 'Horse', 'Ship', 'Truck']\n",
    "    fig = plt.figure()\n",
    "    for i, idx in enumerate(indices):\n",
    "        plt.subplot(3,4,i+1)\n",
    "        img = torchvision.utils.make_grid(images[idx])\n",
    "        imshow(img)\n",
    "        plt.subplots_adjust(left=0.1,\n",
    "                    bottom=0.1, \n",
    "                    right=0.9, \n",
    "                    top=0.9, \n",
    "                    wspace=0.4, \n",
    "                    hspace=0.4)\n",
    "        plt.title(\"{}\".format(classes[targets[idx]]))\n",
    "        plt.xticks([])\n",
    "        plt.yticks([])\n",
    "    plt.savefig('cifar10.png')\n",
    "    plt.show()"
   ]
  },
  {
   "cell_type": "code",
   "execution_count": null,
   "id": "8c5d6129-a07c-46b7-b77a-6020eb03ae11",
   "metadata": {},
   "outputs": [],
   "source": [
    "# MNIST\n",
    "train_loader = torch.utils.data.DataLoader(\n",
    "    datasets.MNIST('data/mnist', train=True, download=True,\n",
    "                   transform=transforms.Compose([\n",
    "                       transforms.ToTensor()\n",
    "                   ])),\n",
    "    batch_size=64, shuffle=True)"
   ]
  },
  {
   "cell_type": "code",
   "execution_count": null,
   "id": "3d57e4b0-a8c2-4d29-beed-e1249c056433",
   "metadata": {},
   "outputs": [],
   "source": [
    "# Fashion MNIST\n",
    "transform = torchvision.transforms.Compose([\n",
    "    torchvision.transforms.ToTensor(),\n",
    "    torchvision.transforms.Normalize(\n",
    "        (0.1307,), (0.3081,))\n",
    "])\n",
    "train_loader = torch.utils.data.DataLoader(\n",
    "    torchvision.datasets.FashionMNIST(\n",
    "            'data/fmnist', \n",
    "            train=True, download=True,\n",
    "            transform=transform),\n",
    "    batch_size=64, \n",
    "    shuffle=True)\n",
    "        "
   ]
  },
  {
   "cell_type": "code",
   "execution_count": null,
   "id": "ef5cfe42-f85f-4e17-9ae5-004cd8cace41",
   "metadata": {},
   "outputs": [],
   "source": [
    "# CIFAR        \n",
    "transform = torchvision.transforms.Compose([torchvision.transforms.transforms.ToTensor(),torchvision.transforms.transforms.Normalize((0.5, 0.5, 0.5), (0.5, 0.5, 0.5))])\n",
    "train_loader = torch.utils.data.DataLoader(\n",
    "    torchvision.datasets.CIFAR10(\n",
    "    'data/cifar10', \n",
    "    train=True, download=True,\n",
    "    transform=transform),\n",
    "    batch_size=64, \n",
    "    shuffle=True)"
   ]
  },
  {
   "cell_type": "code",
   "execution_count": null,
   "id": "eca098a9-7036-46d4-9593-5b290f63d176",
   "metadata": {},
   "outputs": [],
   "source": [
    "examples = enumerate(train_loader)\n",
    "batch_idx, (images, targets) = next(examples)\n",
    "sample_images, sample_indices = get_sample(images, targets) \n",
    "plot_images(images, targets, sample_indices)"
   ]
  },
  {
   "cell_type": "code",
   "execution_count": null,
   "id": "eb0f009b-dee3-4c3f-a70b-4f98130b5f0e",
   "metadata": {},
   "outputs": [],
   "source": [
    "examples = enumerate(train_loader)\n",
    "batch_idx, (images, targets) = next(examples)\n",
    "sample_images, sample_indices = get_sample(images, targets) \n",
    "plot_cifar10_images(images, targets, sample_indices)"
   ]
  },
  {
   "cell_type": "code",
   "execution_count": null,
   "id": "09889649-da01-4de2-97a4-586ba2fe6108",
   "metadata": {},
   "outputs": [],
   "source": [
    "sample_images, sample_indices = get_sample(images, targets) \n",
    "targets[sample_indices[4]] = 5  \n",
    "plot_shap_images(images, targets, sample_indices)"
   ]
  }
 ],
 "metadata": {
  "kernelspec": {
   "display_name": "Python 3 (ipykernel)",
   "language": "python",
   "name": "python3"
  },
  "language_info": {
   "codemirror_mode": {
    "name": "ipython",
    "version": 3
   },
   "file_extension": ".py",
   "mimetype": "text/x-python",
   "name": "python",
   "nbconvert_exporter": "python",
   "pygments_lexer": "ipython3",
   "version": "3.10.5"
  }
 },
 "nbformat": 4,
 "nbformat_minor": 5
}
