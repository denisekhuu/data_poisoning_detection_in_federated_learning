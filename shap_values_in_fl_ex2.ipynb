{
 "cells": [
  {
   "cell_type": "markdown",
   "id": "e90735a1-53a9-4567-8e53-0fbd8c9be463",
   "metadata": {},
   "source": [
    "# Feature Engineering with SHAP values Experiment 1"
   ]
  },
  {
   "cell_type": "markdown",
   "id": "ecace8b6-fb81-41ec-959f-2c80732970a3",
   "metadata": {},
   "source": [
    "SHAP Images right after poisoning attack\n",
    "\n",
    "rounds [1,2,10,75,200]\n"
   ]
  },
  {
   "cell_type": "markdown",
   "id": "4b55d2a2-cf7c-4cc4-a0ae-6e8a9417f4bd",
   "metadata": {},
   "source": [
    "## Google Colab"
   ]
  },
  {
   "cell_type": "code",
   "execution_count": null,
   "id": "3b87a965-41d4-4bc0-9dc6-20a567cf81c3",
   "metadata": {},
   "outputs": [],
   "source": [
    "from google.colab import drive\n",
    "drive.flush_and_unmount()\n",
    "drive.mount('/content/drive', force_remount=True)\n",
    "\n",
    "import sys\n",
    "sys.path.append('/content/drive/My Drive/Colab Notebooks')\n",
    "sys.path.append('/content/drive/My Drive/Colab Notebooks/federated_learning')\n",
    "\n",
    "!pip install shap==0.40.0"
   ]
  },
  {
   "cell_type": "markdown",
   "id": "984b63c6-7d0c-440f-9857-54ab0f06c776",
   "metadata": {},
   "source": [
    "## Experiment Setup"
   ]
  },
  {
   "cell_type": "code",
   "execution_count": null,
   "id": "2885b7f4-ebfc-46cd-a24e-7040b8a0b4b2",
   "metadata": {},
   "outputs": [],
   "source": [
    "from federated_learning.utils import SHAPUtil, experiment_util, Visualizer\n",
    "from federated_learning import ClientPlane, Configuration, ObserverConfiguration\n",
    "from federated_learning.server import Server\n",
    "from datetime import datetime"
   ]
  },
  {
   "cell_type": "code",
   "execution_count": null,
   "id": "10bcd89f-3c79-44c9-96a4-fa7fe9f13f4c",
   "metadata": {},
   "outputs": [],
   "source": [
    "GOOGLE_COLAB_MODEL_PATH = \"/content/drive/My Drive/Colab Notebooks/temp/models/MNISTtrained.model\""
   ]
  },
  {
   "cell_type": "markdown",
   "id": "63a52aba-3c4a-41c0-ad51-a9fe12325f8d",
   "metadata": {},
   "source": [
    "## MNIST\n",
    "(1) 5 → 4,\n",
    "(2) 1 → 7,\n",
    "(3) 3 → 8,"
   ]
  },
  {
   "cell_type": "code",
   "execution_count": null,
   "id": "5b8418e4-e991-42c8-96bc-ec453a317686",
   "metadata": {},
   "outputs": [],
   "source": [
    "from federated_learning.nets import MNISTCNN\n",
    "from federated_learning.dataset import MNISTDataset\n",
    "import os\n",
    "config = Configuration()\n",
    "config.POISONED_CLIENTS = 0\n",
    "config.DATA_POISONING_PERCENTAGE = 1\n",
    "config.DATASET = MNISTDataset\n",
    "config.MODELNAME = config.MNIST_NAME\n",
    "config.NETWORK = MNISTCNN\n",
    "observer_config = ObserverConfiguration()\n",
    "observer_config.experiment_type = \"shap_fl_poisoned\"\n",
    "observer_config.experiment_id = 1\n",
    "observer_config.test = False\n",
    "observer_config.datasetObserverConfiguration = \"MNIST\"\n",
    "neutral_label = 2"
   ]
  },
  {
   "cell_type": "code",
   "execution_count": null,
   "id": "ec38b1f3-58fa-4e5a-a5be-85aab769f348",
   "metadata": {},
   "outputs": [],
   "source": [
    "# Google Colab Settigns\n",
    "config.TEMP = os.path.join('/content/drive/My Drive/Colab Notebooks/temp')\n",
    "config.FMNIST_DATASET_PATH = os.path.join('/content/data/fmnist')\n",
    "config.MNIST_DATASET_PATH = os.path.join('/content/data/mnist')\n",
    "config.CIFAR10_DATASET_PATH = os.path.join('/content/data/cifar10')\n",
    "config.VM_URL = \"none\""
   ]
  },
  {
   "cell_type": "code",
   "execution_count": null,
   "id": "0dc71a12-bc1c-4ccd-962d-3e171d3620a2",
   "metadata": {},
   "outputs": [],
   "source": [
    "data = config.DATASET(config)\n",
    "shap_util = SHAPUtil(data.test_dataloader) \n",
    "server = Server(config, observer_config,data.train_dataloader, data.test_dataloader, shap_util)\n",
    "client_plane = ClientPlane(config, observer_config, data, shap_util)\n",
    "visualizer = Visualizer(shap_util)"
   ]
  },
  {
   "cell_type": "markdown",
   "id": "142bccf8-fc4f-4845-b7ef-3ddceb5d16a7",
   "metadata": {
    "tags": []
   },
   "source": [
    "### Experimental Setup"
   ]
  },
  {
   "cell_type": "code",
   "execution_count": null,
   "id": "01538ec4-60ad-4a78-9e91-0dfd20bf87d8",
   "metadata": {
    "scrolled": true,
    "tags": []
   },
   "outputs": [],
   "source": [
    "import numpy as np\n",
    "import copy\n",
    "import torch\n",
    "import os\n",
    "for i in range(200):\n",
    "    if (i+1) in [2, 5,10,75,100,200]:\n",
    "        file = \"./temp/models/ex5/MNIST_round_{}.model\".format(i+1)\n",
    "        if not os.path.exists(os.path.dirname(file)):\n",
    "                os.makedirs(os.path.dirname(file))\n",
    "        torch.save(server.net.state_dict(), file)\n",
    "    experiment_util.set_rounds(client_plane, server, i+1)\n",
    "    experiment_util.run_round(client_plane, server, i+1)"
   ]
  },
  {
   "cell_type": "markdown",
   "id": "12433c03-1096-4122-bd1f-06e529c91532",
   "metadata": {},
   "source": [
    "## alpha(5,4)"
   ]
  },
  {
   "cell_type": "code",
   "execution_count": null,
   "id": "ca71e673-cadc-4e95-b7d5-373564f65162",
   "metadata": {},
   "outputs": [],
   "source": [
    "config.FROM_LABEL = 5\n",
    "config.TO_LABEL = 4"
   ]
  },
  {
   "cell_type": "code",
   "execution_count": null,
   "id": "29221658-1013-44b1-a136-63a030d12900",
   "metadata": {},
   "outputs": [],
   "source": []
  },
  {
   "cell_type": "code",
   "execution_count": null,
   "id": "dcc5246f-6626-4783-885c-2c8d6d83fd2d",
   "metadata": {},
   "outputs": [],
   "source": [
    "import torch\n",
    "shap_images = [config.FROM_LABEL ,config.TO_LABEL]\n",
    "for i in range(5):\n",
    "    for j in [2,5,10,75,100,200]:\n",
    "        model_file = file = \"./temp/models/ex5/MNIST_round_{}.model\".format(j)\n",
    "        server.net =  MNISTCNN()\n",
    "        server.net.load_state_dict(torch.load(model_file))\n",
    "        client_plane.reset_default_client_nets()\n",
    "        client_plane.reset_poisoning_attack()\n",
    "        \n",
    "        server.test()\n",
    "        recall, precision, accuracy = server.analize_test()\n",
    "        print(\"Original\", recall, precision, accuracy)\n",
    "        server_shap = server.get_shap_values(shap_images)\n",
    "        server_file_name = \"./results/ex5/MNIST/5_4/{}_round_{}_MNIST_server_lf_5_4_ex5.pdf\".format(i, j)\n",
    "        visualizer.plot_shap_values(server_shap, server_file_name, indices=shap_images)\n",
    "        \n",
    "        config.POISONED_CLIENTS = 1\n",
    "        experiment_util.update_configs(client_plane, server, config, observer_config)\n",
    "        client_plane.poison_clients()\n",
    "        clean_clients = experiment_util.select_random_clean(client_plane, config, 1)\n",
    "        poisoned_clients = experiment_util.select_poisoned(client_plane, 1)\n",
    "        \n",
    "        client_plane.update_clients(server.get_nn_parameters())\n",
    "        print(\"Client Clean {}\".format(j+1))\n",
    "        client_plane.clients[clean_clients[0]].train(j+1)\n",
    "        clean_client_shap = client_plane.clients[clean_clients[0]].get_shap_values(shap_images)\n",
    "        clean_client_file_name = \"./results/ex5/MNIST/5_4/{}_round_{}_MNIST_clean_client_lf_5_4_ex5.pdf\".format(i, j)\n",
    "        clean_client_compare_file_name = \"./results/ex5/MNIST/5_4/{}_round_{}_MNIST_clean_client_compare_lf_5_4_ex5.pdf\".format(i, j)\n",
    "        visualizer.plot_shap_values(clean_client_shap, clean_client_file_name,indices=shap_images)\n",
    "        visualizer.compare_shap_values(clean_client_shap, server_shap, clean_client_compare_file_name,indices=shap_images)\n",
    "        \n",
    "        server.net =  MNISTCNN()\n",
    "        server.net.load_state_dict(torch.load(model_file))\n",
    "        client_plane.update_clients(server.get_nn_parameters())    \n",
    "        print(\"Client Poisoned {}\".format(j+1))\n",
    "        client_plane.clients[poisoned_clients[0]].train(j+1)\n",
    "        poisoned_client_shap = client_plane.clients[poisoned_clients[0]].get_shap_values(shap_images)\n",
    "        poisoned_client_file_name = \"./results/ex5/MNIST/5_4/{}_round_{}_MNIST_poisoned_client_lf_5_4_ex5.pdf\".format(i, j)\n",
    "        poisoned_client_compare_file_name = \"./results/ex5/MNIST/5_4/{}_round_{}__MNIST_poisoned_client_compare_lf_5_4_ex5.pdf\".format(i, j)\n",
    "        visualizer.plot_shap_values(poisoned_client_shap, poisoned_client_file_name,indices=shap_images)\n",
    "        visualizer.compare_shap_values(poisoned_client_shap, server_shap, poisoned_client_compare_file_name,indices=shap_images)\n",
    "        print(\"Round {} finished\".format(i+1))"
   ]
  },
  {
   "cell_type": "markdown",
   "id": "a76ae4dc-c7ae-4477-aa64-76a8e8b7d9e2",
   "metadata": {
    "tags": []
   },
   "source": [
    "## alpha(1,7)"
   ]
  },
  {
   "cell_type": "code",
   "execution_count": null,
   "id": "db4a3329-71dc-4305-82e7-747bddb6e74d",
   "metadata": {},
   "outputs": [],
   "source": [
    "config.FROM_LABEL = 1\n",
    "config.TO_LABEL = 7"
   ]
  },
  {
   "cell_type": "code",
   "execution_count": null,
   "id": "12355485-b0b6-4d52-819f-c44570275e40",
   "metadata": {
    "tags": []
   },
   "outputs": [],
   "source": [
    "import torch\n",
    "shap_images = [config.FROM_LABEL ,config.TO_LABEL]\n",
    "for i in range(4,5):\n",
    "    for j in [2,5,10,75,100,200]:\n",
    "        model_file = file = \"./temp/models/ex5/MNIST_round_{}.model\".format(j)\n",
    "        server.net =  MNISTCNN()\n",
    "        server.net.load_state_dict(torch.load(model_file))\n",
    "        \n",
    "        server.test()\n",
    "        recall, precision, accuracy = server.analize_test()\n",
    "        print(\"Original\", recall, precision, accuracy)\n",
    "        server_shap = server.get_shap_values(shap_images)\n",
    "        server_file_name = \"./results/ex5/MNIST/1_7/{}_round_{}_MNIST_server_lf_1_7_ex5.pdf\".format(i, j)\n",
    "        visualizer.plot_shap_values(server_shap, server_file_name, indices=shap_images)\n",
    "        \n",
    "        config.POISONED_CLIENTS = 1\n",
    "        experiment_util.update_configs(client_plane, server, config, observer_config)\n",
    "        client_plane.poison_clients()\n",
    "        clean_clients = experiment_util.select_random_clean(client_plane, config, 1)\n",
    "        poisoned_clients = experiment_util.select_poisoned(client_plane, 1)\n",
    "        \n",
    "        client_plane.update_clients(server.get_nn_parameters())\n",
    "        print(\"Client Clean {}\".format(j+1))\n",
    "        client_plane.clients[clean_clients[0]].train(j+1)\n",
    "        clean_client_shap = client_plane.clients[clean_clients[0]].get_shap_values(shap_images)\n",
    "        clean_client_file_name = \"./results/ex5/MNIST/1_7/{}_round_{}_MNIST_clean_client_lf_1_7_ex5.pdf\".format(i, j)\n",
    "        clean_client_compare_file_name = \"./results/ex5/MNIST/1_7/{}_round_{}_MNIST_clean_client_compare_lf_1_7_ex5.pdf\".format(i, j)\n",
    "        visualizer.plot_shap_values(clean_client_shap, clean_client_file_name,indices=shap_images)\n",
    "        visualizer.compare_shap_values(clean_client_shap, server_shap, clean_client_compare_file_name,indices=shap_images)\n",
    "        \n",
    "        server.net =  MNISTCNN()\n",
    "        server.net.load_state_dict(torch.load(model_file))\n",
    "        client_plane.update_clients(server.get_nn_parameters())    \n",
    "        print(\"Client Poisoned {}\".format(j+1))\n",
    "        client_plane.clients[poisoned_clients[0]].train(j+1)\n",
    "        poisoned_client_shap = client_plane.clients[poisoned_clients[0]].get_shap_values(shap_images)\n",
    "        poisoned_client_file_name = \"./results/ex5/MNIST/1_7/{}_round_{}_MNIST_poisoned_client_lf_1_7_ex5.pdf\".format(i, j)\n",
    "        poisoned_client_compare_file_name = \"./results/ex5/MNIST/1_7/{}_round_{}__MNIST_poisoned_client_compare_lf_1_7_ex5.pdf\".format(i, j)\n",
    "        visualizer.plot_shap_values(poisoned_client_shap, poisoned_client_file_name,indices=shap_images)\n",
    "        visualizer.compare_shap_values(poisoned_client_shap, server_shap, poisoned_client_compare_file_name,indices=shap_images)\n",
    "        client_plane.reset_default_client_nets()\n",
    "        client_plane.reset_poisoning_attack()\n",
    "        print(\"Round {} finished\".format(i+1))"
   ]
  },
  {
   "cell_type": "code",
   "execution_count": null,
   "id": "06ad5291-ccfc-423d-b7fc-909d057d97cd",
   "metadata": {},
   "outputs": [],
   "source": [
    "config.FROM_LABEL = 3\n",
    "config.TO_LABEL = 8"
   ]
  },
  {
   "cell_type": "code",
   "execution_count": null,
   "id": "5cff0425-9151-4f51-8d1c-03c73906181e",
   "metadata": {},
   "outputs": [],
   "source": [
    "import torch\n",
    "shap_images = [config.FROM_LABEL ,config.TO_LABEL]\n",
    "for i in range(5):\n",
    "    for j in [2,5,10,75,100,200]:\n",
    "        model_file = file = \"./temp/models/ex5/MNIST_round_{}.model\".format(j)\n",
    "        server.net =  MNISTCNN()\n",
    "        server.net.load_state_dict(torch.load(model_file))\n",
    "        client_plane.reset_default_client_nets()\n",
    "        client_plane.reset_poisoning_attack()\n",
    "        \n",
    "        server.test()\n",
    "        recall, precision, accuracy = server.analize_test()\n",
    "        print(\"Original\", recall, precision, accuracy)\n",
    "        server_shap = server.get_shap_values(shap_images)\n",
    "        server_file_name = \"./results/ex5/MNIST/3_8/{}_round_{}_MNIST_server_lf_3_8_ex5.pdf\".format(i, j)\n",
    "        visualizer.plot_shap_values(server_shap, server_file_name, indices=shap_images)\n",
    "        \n",
    "        config.POISONED_CLIENTS = 1\n",
    "        experiment_util.update_configs(client_plane, server, config, observer_config)\n",
    "        client_plane.poison_clients()\n",
    "        clean_clients = experiment_util.select_random_clean(client_plane, config, 1)\n",
    "        poisoned_clients = experiment_util.select_poisoned(client_plane, 1)\n",
    "        \n",
    "        client_plane.update_clients(server.get_nn_parameters())\n",
    "        print(\"Client Clean {}\".format(j+1))\n",
    "        client_plane.clients[clean_clients[0]].train(j+1)\n",
    "        clean_client_shap = client_plane.clients[clean_clients[0]].get_shap_values(shap_images)\n",
    "        clean_client_file_name = \"./results/ex5/MNIST/3_8/{}_round_{}_MNIST_clean_client_lf_3_8_ex5.pdf\".format(i, j)\n",
    "        clean_client_compare_file_name = \"./results/ex5/MNIST/3_8/{}_round_{}_MNIST_clean_client_compare_lf_3_8_ex5.pdf\".format(i, j)\n",
    "        visualizer.plot_shap_values(clean_client_shap, clean_client_file_name,indices=shap_images)\n",
    "        visualizer.compare_shap_values(clean_client_shap, server_shap, clean_client_compare_file_name,indices=shap_images)\n",
    "        \n",
    "        server.net =  MNISTCNN()\n",
    "        server.net.load_state_dict(torch.load(model_file))\n",
    "        client_plane.update_clients(server.get_nn_parameters())    \n",
    "        print(\"Client Poisoned {}\".format(j+1))\n",
    "        client_plane.clients[poisoned_clients[0]].train(j+1)\n",
    "        poisoned_client_shap = client_plane.clients[poisoned_clients[0]].get_shap_values(shap_images)\n",
    "        poisoned_client_file_name = \"./results/ex5/MNIST/3_8/{}_round_{}_MNIST_poisoned_client_lf_3_8_ex5.pdf\".format(i, j)\n",
    "        poisoned_client_compare_file_name = \"./results/ex5/MNIST/3_8/{}_round_{}__MNIST_poisoned_client_compare_lf_3_8_ex5.pdf\".format(i, j)\n",
    "        visualizer.plot_shap_values(poisoned_client_shap, poisoned_client_file_name,indices=shap_images)\n",
    "        visualizer.compare_shap_values(poisoned_client_shap, server_shap, poisoned_client_compare_file_name,indices=shap_images)\n",
    "        client_plane.reset_default_client_nets()\n",
    "        client_plane.reset_poisoning_attack()\n",
    "        print(\"Round {} finished\".format(i+1))"
   ]
  },
  {
   "cell_type": "markdown",
   "id": "ff022e0a-fa72-46a4-8e1c-d30536b7bc84",
   "metadata": {},
   "source": [
    "## FashionMNIST\n",
    "For Fashion-MNIST we experiment with \n",
    "(1) 5: sandal → 4: coat,\n",
    "(2) 1: trouser → 3: dress, and \n",
    "(3) 8: Bag → 9: Ankle Boot.\n",
    "['T-shirt/top', 'Trouser', 'Pullover', 'Dress', 'Coat', 'Sandal', 'Shirt', 'Sneaker',  'Bag', 'Ankle Boot']\n"
   ]
  },
  {
   "cell_type": "code",
   "execution_count": null,
   "id": "68c46560-c6ab-44a3-a441-7b54543c18af",
   "metadata": {},
   "outputs": [],
   "source": [
    "from federated_learning.nets import FMNISTCNN\n",
    "from federated_learning.dataset import FMNISTDataset\n",
    "import os\n",
    "config = Configuration()\n",
    "config.POISONED_CLIENTS = 0\n",
    "config.DATA_POISONING_PERCENTAGE = 1\n",
    "config.DATASET = FMNISTDataset\n",
    "config.MODELNAME = config.FMNIST_NAME\n",
    "config.NETWORK = FMNISTCNN\n",
    "observer_config = ObserverConfiguration()\n",
    "observer_config.experiment_type = \"shap_fl_poisoned\"\n",
    "observer_config.experiment_id = 1\n",
    "observer_config.test = False\n",
    "observer_config.datasetObserverConfiguration = \"MNIST\"\n",
    "neutral_label = 2"
   ]
  },
  {
   "cell_type": "code",
   "execution_count": null,
   "id": "bb702268-51b9-4a48-a013-2b762826039d",
   "metadata": {},
   "outputs": [],
   "source": [
    "# Google Colab Settigns\n",
    "config.TEMP = os.path.join('/content/drive/My Drive/Colab Notebooks/temp')\n",
    "config.FMNIST_DATASET_PATH = os.path.join('/content/data/fmnist')\n",
    "config.MNIST_DATASET_PATH = os.path.join('/content/data/mnist')\n",
    "config.CIFAR10_DATASET_PATH = os.path.join('/content/data/cifar10')\n",
    "config.VM_URL = \"none\""
   ]
  },
  {
   "cell_type": "code",
   "execution_count": null,
   "id": "617a9774-2a37-49f7-b298-b1360c82ccef",
   "metadata": {},
   "outputs": [],
   "source": [
    "data = config.DATASET(config)\n",
    "shap_util = SHAPUtil(data.test_dataloader) \n",
    "server = Server(config, observer_config,data.train_dataloader, data.test_dataloader, shap_util)\n",
    "client_plane = ClientPlane(config, observer_config, data, shap_util)\n",
    "visualizer = Visualizer(shap_util)"
   ]
  },
  {
   "cell_type": "code",
   "execution_count": null,
   "id": "19eaede6-6787-498c-95b1-0b62ad29aade",
   "metadata": {},
   "outputs": [],
   "source": [
    "import numpy as np\n",
    "import copy\n",
    "for i in range(199):\n",
    "    experiment_util.set_rounds(client_plane, server, i+1)\n",
    "    experiment_util.run_round(client_plane, server, i+1)\n",
    "print(\"Run 199 finished\")\n",
    "old_params = copy.deepcopy(server.get_nn_parameters())"
   ]
  },
  {
   "cell_type": "code",
   "execution_count": null,
   "id": "8fe2468e-9ed6-4819-9217-21f8bece08a6",
   "metadata": {},
   "outputs": [],
   "source": [
    "import numpy as np\n",
    "import copy\n",
    "import torch\n",
    "import os\n",
    "for i in range(200):\n",
    "    if (i+1) in [2, 5,10,75,100,200]:\n",
    "        file = \"/content/drive/My Drive/Colab Notebooks/temp/models/ex5/MNIST_round_{}.model\".format(i+1)\n",
    "        if not os.path.exists(os.path.dirname(file)):\n",
    "                os.makedirs(os.path.dirname(file))\n",
    "        torch.save(server.net.state_dict(), file)\n",
    "    experiment_util.set_rounds(client_plane, server, i+1)\n",
    "    experiment_util.run_round(client_plane, server, i+1)"
   ]
  },
  {
   "cell_type": "code",
   "execution_count": null,
   "id": "ef2a66ca-8aff-498f-a117-8cd7ab6a8532",
   "metadata": {},
   "outputs": [],
   "source": [
    "config.FROM_LABEL = 5\n",
    "config.TO_LABEL = 4"
   ]
  },
  {
   "cell_type": "code",
   "execution_count": null,
   "id": "d38a919b-e654-4745-9c8d-1f1a8eb6fbf3",
   "metadata": {},
   "outputs": [],
   "source": [
    "import torch\n",
    "shap_images = [config.FROM_LABEL ,config.TO_LABEL]\n",
    "for i in range(5):\n",
    "    for j in [2,5,10,75,100,200]:\n",
    "        model_file = file = \"/content/drive/My Drive/Colab Notebooks/temp/models/ex5/MNIST_round_{}.model\".format(j)\n",
    "        server.net =  MNISTCNN()\n",
    "        server.net.load_state_dict(torch.load(model_file))\n",
    "        client_plane.reset_default_client_nets()\n",
    "        client_plane.reset_poisoning_attack()\n",
    "        \n",
    "        server.test()\n",
    "        recall, precision, accuracy = server.analize_test()\n",
    "        print(\"Original\", recall, precision, accuracy)\n",
    "        server_shap = server.get_shap_values(shap_images)\n",
    "        server_file_name =  \"/content/drive/My Drive/Colab Notebooks/results/ex5/MNIST/{}_{}/{}_round_{}_MNIST_server_lf_{}_{}_ex5.pdf\".format(config.FROM_LABEL, config.TO_LABEL, i, j, config.FROM_LABEL, config.TO_LABEL)\n",
    "        visualizer.plot_shap_values(server_shap, server_file_name, indices=shap_images)\n",
    "        \n",
    "        config.POISONED_CLIENTS = 1\n",
    "        experiment_util.update_configs(client_plane, server, config, observer_config)\n",
    "        client_plane.poison_clients()\n",
    "        clean_clients = experiment_util.select_random_clean(client_plane, config, 1)\n",
    "        poisoned_clients = experiment_util.select_poisoned(client_plane, 1)\n",
    "        \n",
    "        client_plane.update_clients(server.get_nn_parameters())\n",
    "        print(\"Client Clean {}\".format(j+1))\n",
    "        client_plane.clients[clean_clients[0]].train(j+1)\n",
    "        clean_client_shap = client_plane.clients[clean_clients[0]].get_shap_values(shap_images)\n",
    "        clean_client_file_name = \"/content/drive/My Drive/Colab Notebooks/results/ex5/MNIST/{}_{}/{}_round_{}_MNIST_clean_client_lf_{}_{}_ex5.pdf\".format(config.FROM_LABEL, config.TO_LABEL, i, j, config.FROM_LABEL, config.TO_LABEL)\n",
    "        clean_client_compare_file_name = \"/content/drive/My Drive/Colab Notebooks/results/ex5/MNIST/{}_{}/{}_round_{}_MNIST_clean_client_compare_lf_{}_{}_ex5.pdf\".format(config.FROM_LABEL, config.TO_LABEL, i, j, config.FROM_LABEL, config.TO_LABEL)\n",
    "        visualizer.plot_shap_values(clean_client_shap, clean_client_file_name,indices=shap_images)\n",
    "        visualizer.compare_shap_values(clean_client_shap, server_shap, clean_client_compare_file_name,indices=shap_images)\n",
    "        \n",
    "        server.net =  MNISTCNN()\n",
    "        server.net.load_state_dict(torch.load(model_file))\n",
    "        client_plane.update_clients(server.get_nn_parameters())    \n",
    "        print(\"Client Poisoned {}\".format(j+1))\n",
    "        client_plane.clients[poisoned_clients[0]].train(j+1)\n",
    "        poisoned_client_shap = client_plane.clients[poisoned_clients[0]].get_shap_values(shap_images)\n",
    "        poisoned_client_file_name = \"/content/drive/My Drive/Colab Notebooks/results/ex5/MNIST/{}_{}/{}_round_{}_MNIST_poisoned_client_lf_{}_{}_ex5.pdf\".format(config.FROM_LABEL, config.TO_LABEL, i, j, config.FROM_LABEL, config.TO_LABEL)\n",
    "        poisoned_client_compare_file_name = \"/content/drive/My Drive/Colab Notebooks/results/ex5/MNIST/{}_{}/{}_round_{}__MNIST_poisoned_client_compare_lf_{}_{}_ex5.pdf\".format(config.FROM_LABEL, config.TO_LABEL, i, j, config.FROM_LABEL, config.TO_LABEL)\n",
    "        visualizer.plot_shap_values(poisoned_client_shap, poisoned_client_file_name,indices=shap_images)\n",
    "        visualizer.compare_shap_values(poisoned_client_shap, server_shap, poisoned_client_compare_file_name,indices=shap_images)\n",
    "        client_plane.reset_default_client_nets()\n",
    "        client_plane.reset_poisoning_attack()\n",
    "        print(\"Round {} finished\".format(i+1))"
   ]
  },
  {
   "cell_type": "markdown",
   "id": "097372b9-146f-431e-ad41-deb5465b4f92",
   "metadata": {
    "tags": []
   },
   "source": [
    "## alpha(3,8)"
   ]
  }
 ],
 "metadata": {
  "kernelspec": {
   "display_name": "Python 3 (ipykernel)",
   "language": "python",
   "name": "python3"
  },
  "language_info": {
   "codemirror_mode": {
    "name": "ipython",
    "version": 3
   },
   "file_extension": ".py",
   "mimetype": "text/x-python",
   "name": "python",
   "nbconvert_exporter": "python",
   "pygments_lexer": "ipython3",
   "version": "3.10.5"
  }
 },
 "nbformat": 4,
 "nbformat_minor": 5
}
