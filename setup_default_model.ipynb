{
 "cells": [
  {
   "cell_type": "markdown",
   "id": "8b00ca01-3b5b-401d-94e4-f9fd4d7596a7",
   "metadata": {},
   "source": [
    "# Create default models"
   ]
  },
  {
   "cell_type": "code",
   "execution_count": 2,
   "id": "73ed2595-425f-4385-ba62-db3736aea48b",
   "metadata": {},
   "outputs": [],
   "source": [
    "from pathlib import Path\n",
    "import torch\n",
    "import os\n",
    "from federated_learning import Configuration\n",
    "def create_default_model(config):\n",
    "    default_model_path = os.path.join(config.TEMP, 'models', \"{}.model\".format(config.MODELNAME))\n",
    "    net = config.NETWORK()\n",
    "    Path(os.path.dirname(default_model_path)).mkdir(parents=True, exist_ok=True)\n",
    "    torch.save(net.state_dict(), default_model_path)\n",
    "    print(\"default model saved to:{}\".format(os.path.dirname(default_model_path)))"
   ]
  },
  {
   "cell_type": "markdown",
   "id": "5b7745f3-02b0-4376-8104-cad8f5656e7f",
   "metadata": {
    "tags": []
   },
   "source": [
    "## Fashion MNIST"
   ]
  },
  {
   "cell_type": "code",
   "execution_count": 3,
   "id": "27375be9-4d21-4032-8404-18ae1d0576e7",
   "metadata": {},
   "outputs": [],
   "source": [
    "from federated_learning.nets import FMNISTCNN\n",
    "from federated_learning.dataset import FMNISTDataset\n",
    "config = Configuration() \n",
    "# Data Type Configurations\n",
    "config.DATASET = FMNISTDataset\n",
    "config.MODELNAME = config.FMNIST_NAME\n",
    "config.NETWORK = FMNISTCNN"
   ]
  },
  {
   "cell_type": "code",
   "execution_count": 4,
   "id": "06a7f9ff-2651-4fa7-89ad-50987e93993b",
   "metadata": {},
   "outputs": [
    {
     "name": "stdout",
     "output_type": "stream",
     "text": [
      "default model saved to:./temp/models\n"
     ]
    }
   ],
   "source": [
    "create_default_model(config)"
   ]
  },
  {
   "cell_type": "markdown",
   "id": "0430ae07-f450-4d54-be5c-ef6e481c6207",
   "metadata": {},
   "source": [
    "## MNIST"
   ]
  },
  {
   "cell_type": "code",
   "execution_count": 5,
   "id": "34672e78-dfc5-41bc-b2fc-e91cfc517cf9",
   "metadata": {},
   "outputs": [],
   "source": [
    "from federated_learning.nets import MNISTCNN\n",
    "from federated_learning.dataset import MNISTDataset\n",
    "config = Configuration() \n",
    "# Data Type Configurations\n",
    "config.DATASET = MNISTDataset\n",
    "config.MODELNAME = config.MNIST_NAME\n",
    "config.NETWORK = MNISTCNN"
   ]
  },
  {
   "cell_type": "code",
   "execution_count": 6,
   "id": "50d8d89d-b383-4c8e-ad2e-97802c60ec30",
   "metadata": {},
   "outputs": [
    {
     "name": "stdout",
     "output_type": "stream",
     "text": [
      "default model saved to:./temp/models\n"
     ]
    }
   ],
   "source": [
    "create_default_model(config)"
   ]
  },
  {
   "cell_type": "markdown",
   "id": "40bf0477-8b1f-4e67-8edc-23f81182fb88",
   "metadata": {},
   "source": [
    "## CIFAR10"
   ]
  },
  {
   "cell_type": "code",
   "execution_count": null,
   "id": "ff24b2ad-3375-45b3-a74d-f2068d4284b6",
   "metadata": {},
   "outputs": [],
   "source": [
    "from federated_learning.nets import CIFAR10CNN\n",
    "from federated_learning.datasetimport CIFAR10Dataset\n",
    "config = Configuration() \n",
    "# Data Type Configurations\n",
    "config.DATASET = CIFAR10Dataset\n",
    "config.MODELNAME = config.CIFAR10_NAME\n",
    "config.NETWORK = CIFAR10CNN"
   ]
  },
  {
   "cell_type": "code",
   "execution_count": null,
   "id": "b8bce6fb-ee4c-4e2e-87fd-d4f64426a063",
   "metadata": {},
   "outputs": [],
   "source": [
    "create_default_model(config)"
   ]
  }
 ],
 "metadata": {
  "kernelspec": {
   "display_name": "Python 3 (ipykernel)",
   "language": "python",
   "name": "python3"
  },
  "language_info": {
   "codemirror_mode": {
    "name": "ipython",
    "version": 3
   },
   "file_extension": ".py",
   "mimetype": "text/x-python",
   "name": "python",
   "nbconvert_exporter": "python",
   "pygments_lexer": "ipython3",
   "version": "3.9.12"
  }
 },
 "nbformat": 4,
 "nbformat_minor": 5
}
