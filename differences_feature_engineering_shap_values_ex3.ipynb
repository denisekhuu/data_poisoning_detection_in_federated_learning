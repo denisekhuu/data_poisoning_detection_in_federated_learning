{
 "cells": [
  {
   "cell_type": "markdown",
   "id": "0b48f800-d2d2-4bd7-9bd7-f6f9cfd6740c",
   "metadata": {
    "id": "0b48f800-d2d2-4bd7-9bd7-f6f9cfd6740c"
   },
   "source": [
    "# Feature Engineering with SHAP values Experiment 2"
   ]
  },
  {
   "cell_type": "markdown",
   "id": "93a73a1f-e932-47bb-9605-f5b5c5754612",
   "metadata": {
    "id": "93a73a1f-e932-47bb-9605-f5b5c5754612",
    "tags": []
   },
   "source": [
    "## Google Colab"
   ]
  },
  {
   "cell_type": "code",
   "execution_count": null,
   "id": "32b4bc41-26c2-4fca-a614-ef28cea9d45d",
   "metadata": {
    "colab": {
     "base_uri": "https://localhost:8080/"
    },
    "id": "32b4bc41-26c2-4fca-a614-ef28cea9d45d",
    "outputId": "6f551f51-b59e-4947-b3e6-437dcb1b28ab"
   },
   "outputs": [],
   "source": [
    "from google.colab import drive\n",
    "drive.flush_and_unmount()\n",
    "drive.mount('/content/drive', force_remount=True)\n",
    "\n",
    "import sys\n",
    "sys.path.append('/content/drive/My Drive/Colab Notebooks')\n",
    "sys.path.append('/content/drive/My Drive/Colab Notebooks/federated_learning')\n",
    "\n",
    "!pip install shap==0.40.0"
   ]
  },
  {
   "cell_type": "code",
   "execution_count": 1,
   "id": "a70021e8-dc00-42e7-8bb7-ee4301741e75",
   "metadata": {
    "id": "a70021e8-dc00-42e7-8bb7-ee4301741e75"
   },
   "outputs": [
    {
     "data": {
      "text/plain": [
       "'1.0.2'"
      ]
     },
     "execution_count": 1,
     "metadata": {},
     "output_type": "execute_result"
    }
   ],
   "source": [
    "import sklearn\n",
    "sklearn.__version__"
   ]
  },
  {
   "cell_type": "markdown",
   "id": "c41448db-17cb-4a42-bacd-fd157ce28ac7",
   "metadata": {
    "id": "c41448db-17cb-4a42-bacd-fd157ce28ac7",
    "tags": []
   },
   "source": [
    "## Experimental Setup"
   ]
  },
  {
   "cell_type": "code",
   "execution_count": 3,
   "id": "b4898aa8-0d37-4f50-b0be-e43e398612aa",
   "metadata": {
    "id": "b4898aa8-0d37-4f50-b0be-e43e398612aa"
   },
   "outputs": [],
   "source": [
    "from federated_learning.utils import SHAPUtil, experiment_util, Visualizer\n",
    "from federated_learning import ClientPlane, Configuration, ObserverConfiguration\n",
    "from federated_learning.server import Server\n",
    "from datetime import datetime"
   ]
  },
  {
   "cell_type": "code",
   "execution_count": null,
   "id": "792ca166-f3d7-4e15-92cc-6d54c7989729",
   "metadata": {
    "id": "792ca166-f3d7-4e15-92cc-6d54c7989729"
   },
   "outputs": [],
   "source": [
    "def cos_similarity_values(s_client, s_server):\n",
    "    import numpy as np\n",
    "    cos_similarity = [[] for i in range(10)]\n",
    "    shap_subtract = np.subtract(s_client, s_server)\n",
    "    for row_idx, row in enumerate(shap_subtract):\n",
    "        for img_idx, image in enumerate(row):\n",
    "                cos_similarity[row_idx].append(round(np.sum(image.flatten()), 3))\n",
    "\n",
    "    print(np.matrix(cos_similarity))"
   ]
  },
  {
   "cell_type": "code",
   "execution_count": null,
   "id": "49b4532f-b186-47a9-867a-ec27ddbabe8f",
   "metadata": {
    "id": "49b4532f-b186-47a9-867a-ec27ddbabe8f"
   },
   "outputs": [],
   "source": [
    "from scipy import spatial\n",
    "import numpy"
   ]
  },
  {
   "cell_type": "code",
   "execution_count": null,
   "id": "476b47a5-87c0-49b7-8b20-cbe286c75662",
   "metadata": {
    "id": "476b47a5-87c0-49b7-8b20-cbe286c75662"
   },
   "outputs": [],
   "source": [
    "scipy.__version__\n"
   ]
  },
  {
   "cell_type": "code",
   "execution_count": null,
   "id": "d7a592b2-117f-41c4-9de1-a4150c48035f",
   "metadata": {
    "id": "d7a592b2-117f-41c4-9de1-a4150c48035f"
   },
   "outputs": [],
   "source": [
    "numpy.__version__"
   ]
  },
  {
   "cell_type": "code",
   "execution_count": null,
   "id": "11b5b463-a3f6-4100-a908-f167b84455fe",
   "metadata": {
    "id": "11b5b463-a3f6-4100-a908-f167b84455fe"
   },
   "outputs": [],
   "source": [
    "def cos_similarity_values(s_client, s_server):\n",
    "    from scipy import spatial\n",
    "    import numpy as np\n",
    "    cos_similarity_server = [[] for i in range(10)]\n",
    "    cos_similarity_client = [[] for i in range(10)]\n",
    "    shap_subtract = np.subtract(s_client, s_server)\n",
    "    for row_idx, row in enumerate(s_server):\n",
    "        for img_idx, image in enumerate(row):\n",
    "                cos_similarity_server[row_idx].append(np.sum(image.flatten()))\n",
    "    for row_idx, row in enumerate(s_client):\n",
    "        for img_idx, image in enumerate(row):\n",
    "                cos_similarity_client[row_idx].append(np.sum(image.flatten()))\n",
    "    spatial.distance.cosine(np.array(cos_similarity_server).flatten(), np.array(cos_similarity_client).flatten())\n",
    "    return spatial.distance.cosine(np.array(cos_similarity_server).flatten(), np.array(cos_similarity_client).flatten())"
   ]
  },
  {
   "cell_type": "code",
   "execution_count": null,
   "id": "fe31df9b-171e-4ca3-adb5-490ef31cb536",
   "metadata": {
    "id": "fe31df9b-171e-4ca3-adb5-490ef31cb536"
   },
   "outputs": [],
   "source": [
    "def cos_similarity_values(s_client, s_server):\n",
    "    from scipy import spatial\n",
    "    import numpy as np\n",
    "    cos_similarity = [[] for i in range(10)]\n",
    "    similarity_sum = [[] for i in range(10)]\n",
    "    shap_subtract = np.subtract(s_client, s_server)\n",
    "    for row_idx, row in enumerate(s_client):\n",
    "        for img_idx, image in enumerate(row):\n",
    "                cos_similarity[row_idx].append(spatial.distance.cosine(image.flatten(),s_server[row_idx][img_idx].flatten()))\n",
    "                \n",
    "    return np.sum(cos_similarity)\n",
    "    \n"
   ]
  },
  {
   "cell_type": "code",
   "execution_count": null,
   "id": "844e8c3d-9ac7-49c4-b06c-ae145be6b4cb",
   "metadata": {
    "id": "844e8c3d-9ac7-49c4-b06c-ae145be6b4cb"
   },
   "outputs": [],
   "source": [
    "# Works for MNIST\n",
    "def cos_similarity_values(s_client, s_server):\n",
    "    from scipy import spatial\n",
    "    import numpy as np\n",
    "    cos_similarity = [[] for i in range(10)]\n",
    "    differences_sum = [[] for i in range(10)]\n",
    "    shap_subtract = np.subtract(s_client, s_server)\n",
    "    for row_idx, row in enumerate(s_client):\n",
    "        for img_idx, image in enumerate(row):\n",
    "                cos_similarity[row_idx].append(spatial.distance.cosine(image.flatten(),s_server[row_idx][img_idx].flatten()))\n",
    "                differences_sum[row_idx].append(np.sum(shap_subtract[row_idx][img_idx].flatten()))\n",
    "    \n",
    "    return np.sum(cos_similarity), np.array(differences_sum).diagonal()[np.argmax(np.abs(np.array(differences_sum).diagonal()))]\n",
    "    \n"
   ]
  },
  {
   "cell_type": "code",
   "execution_count": null,
   "id": "63136421-a687-4053-a38d-4abf48f2693c",
   "metadata": {
    "id": "63136421-a687-4053-a38d-4abf48f2693c"
   },
   "outputs": [],
   "source": [
    "def cos_similarity_values(s_client, s_server):\n",
    "    from scipy import spatial\n",
    "    import numpy as np\n",
    "    cos_similarity = [[] for i in range(10)]\n",
    "    similarity_sum = [[] for i in range(10)]\n",
    "    shap_subtract = np.subtract(s_client, s_server)\n",
    "    for row_idx, row in enumerate(s_client):\n",
    "        for img_idx, image in enumerate(row):\n",
    "                cos_similarity[row_idx].append(spatial.distance.cosine(image.flatten(),s_server[row_idx][img_idx].flatten()))\n",
    "                similarity_sum[row_idx].append(np.sum(shap_subtract[row_idx][img_idx].flatten()))\n",
    "    argmax = np.argmax(np.array(cos_similarity).diagonal())\n",
    "    print(np.array(cos_similarity).diagonal()[argmax] * np.array(similarity_sum).diagonal()[argmax])\n",
    "    return np.sum(cos_similarity), np.array(cos_similarity).diagonal().dot(np.array(similarity_sum).diagonal())\n",
    "    \n"
   ]
  },
  {
   "cell_type": "code",
   "execution_count": 4,
   "id": "P9NJBPFEaDB4",
   "metadata": {
    "id": "P9NJBPFEaDB4"
   },
   "outputs": [],
   "source": [
    "def feature_values(s_client, s_server):\n",
    "    from scipy import spatial\n",
    "    import numpy as np\n",
    "    cos_similarity = [[] for i in range(10)]\n",
    "    differences_sum = [[] for i in range(10)]\n",
    "    shap_subtract = np.subtract(s_client, s_server)\n",
    "    for row_idx, row in enumerate(s_client):\n",
    "        for img_idx, image in enumerate(row):\n",
    "                cos_similarity[row_idx].append(spatial.distance.cosine(image.flatten(),s_server[row_idx][img_idx].flatten()))\n",
    "                differences_sum[row_idx].append(np.sum(shap_subtract[row_idx][img_idx].flatten()))\n",
    "    #print(cos_similarity[5][5], cos_similarity[5][4],cos_similarity[4][5])\n",
    "    return np.sum(cos_similarity), np.sum(np.abs(differences_sum)), np.max(cos_similarity), np.abs(np.array(differences_sum).flatten()[np.argmax(np.abs(np.array(differences_sum).flatten()))])\n",
    "    \n"
   ]
  },
  {
   "cell_type": "markdown",
   "id": "6078464c-3ec0-4085-9b9c-5a6517b5f83d",
   "metadata": {
    "id": "6078464c-3ec0-4085-9b9c-5a6517b5f83d",
    "jp-MarkdownHeadingCollapsed": true,
    "tags": []
   },
   "source": [
    "# MNIST"
   ]
  },
  {
   "cell_type": "code",
   "execution_count": 5,
   "id": "3d70d54c-5b1f-4155-8c2f-bc504c4c5b80",
   "metadata": {
    "id": "3d70d54c-5b1f-4155-8c2f-bc504c4c5b80"
   },
   "outputs": [],
   "source": [
    "from federated_learning.nets import MNISTCNN\n",
    "from federated_learning.dataset import MNISTDataset\n",
    "import os\n",
    "config = Configuration()\n",
    "config.POISONED_CLIENTS = 0\n",
    "config.DATA_POISONING_PERCENTAGE = 1\n",
    "config.DATASET = MNISTDataset\n",
    "config.MODELNAME = config.MNIST_NAME\n",
    "config.NETWORK = MNISTCNN\n",
    "observer_config = ObserverConfiguration()\n",
    "observer_config.experiment_type = \"shap_fl_poisoned\"\n",
    "observer_config.experiment_id = 1\n",
    "observer_config.test = False\n",
    "observer_config.datasetObserverConfiguration = \"MNIST\"\n",
    "neutral_label = 2"
   ]
  },
  {
   "cell_type": "code",
   "execution_count": null,
   "id": "d7523594-78d7-4902-a244-98e371ed993c",
   "metadata": {
    "id": "d7523594-78d7-4902-a244-98e371ed993c"
   },
   "outputs": [],
   "source": [
    "# Google Colab Settigns\n",
    "config.TEMP = os.path.join('/content/drive/My Drive/Colab Notebooks/temp')\n",
    "config.FMNIST_DATASET_PATH = os.path.join('/content/data/fmnist')\n",
    "config.MNIST_DATASET_PATH = os.path.join('/content/data/mnist')\n",
    "config.CIFAR10_DATASET_PATH = os.path.join('/content/data/cifar10')\n",
    "config.VM_URL = \"none\""
   ]
  },
  {
   "cell_type": "code",
   "execution_count": 6,
   "id": "b972cb31-adf5-4c27-808b-e151cecc3f90",
   "metadata": {
    "id": "b972cb31-adf5-4c27-808b-e151cecc3f90",
    "outputId": "3be761aa-c7b3-47e2-fca0-8832c35d36b2"
   },
   "outputs": [
    {
     "name": "stdout",
     "output_type": "stream",
     "text": [
      "MNIST training data loaded.\n",
      "MNIST test data loaded.\n"
     ]
    }
   ],
   "source": [
    "data = config.DATASET(config)\n",
    "shap_util = SHAPUtil(data.test_dataloader) \n",
    "server = Server(config, observer_config,data.train_dataloader, data.test_dataloader, shap_util)\n",
    "visualizer = Visualizer(shap_util)"
   ]
  },
  {
   "cell_type": "markdown",
   "id": "078b7a1b-9860-4cf6-a5bc-1b4ee4b80cf9",
   "metadata": {
    "id": "078b7a1b-9860-4cf6-a5bc-1b4ee4b80cf9",
    "tags": []
   },
   "source": [
    "## Experiment Setup "
   ]
  },
  {
   "cell_type": "code",
   "execution_count": null,
   "id": "0a070b8f-c3ee-43a8-8cf9-d6e1a791d57e",
   "metadata": {
    "id": "0a070b8f-c3ee-43a8-8cf9-d6e1a791d57e",
    "outputId": "668fac68-8544-4cb3-ba25-8c77223e6853"
   },
   "outputs": [],
   "source": [
    "import numpy as np\n",
    "import copy\n",
    "import torch\n",
    "import os\n",
    "for i in range(200):\n",
    "    if (i+1) in [2, 5,10,75,100,200]:\n",
    "        file = \"./temp/models/ex6/MNIST_round_{}.model\".format(i+1)\n",
    "        if not os.path.exists(os.path.dirname(file)):\n",
    "                os.makedirs(os.path.dirname(file))\n",
    "        torch.save(server.net.state_dict(), file)\n",
    "    experiment_util.set_rounds(client_plane, server, i+1)\n",
    "    experiment_util.run_round(client_plane, server, i+1)"
   ]
  },
  {
   "cell_type": "markdown",
   "id": "53511113-cd4d-4f1e-afa1-238e6905f4d6",
   "metadata": {
    "id": "53511113-cd4d-4f1e-afa1-238e6905f4d6",
    "tags": []
   },
   "source": [
    "## Experiment"
   ]
  },
  {
   "cell_type": "code",
   "execution_count": 7,
   "id": "3d857037-940c-4081-bc0f-bb14a64df276",
   "metadata": {
    "id": "3d857037-940c-4081-bc0f-bb14a64df276",
    "outputId": "62063d64-b1f1-4a5a-ff3b-2559d26e3df1"
   },
   "outputs": [
    {
     "name": "stdout",
     "output_type": "stream",
     "text": [
      "MNIST training data loaded.\n",
      "MNIST test data loaded.\n",
      "Create 200 clients with dataset of size 300\n",
      "\n",
      "Test set: Average loss: 0.0002, Accuracy: 9625/10000 (96%)\n",
      "\n",
      "Original tensor([0.9929, 0.9833, 0.9612, 0.9525, 0.9562, 0.9720, 0.9729, 0.9523, 0.9446,\n",
      "        0.9366]) tensor([0.9615, 0.9867, 0.9350, 0.9649, 0.9812, 0.9527, 0.9739, 0.9459, 0.9664,\n",
      "        0.9565]) 0.9625\n"
     ]
    },
    {
     "name": "stderr",
     "output_type": "stream",
     "text": [
      "Using a non-full backward hook when the forward contains multiple autograd Nodes is deprecated and will be removed in future versions. This hook will be missing some grad_input. Please use register_full_backward_hook to get the documented behavior.\n",
      "Note that order of the arguments: ceil_mode and return_indices will changeto match the args list in nn.MaxPool2d in a future release.\n"
     ]
    },
    {
     "name": "stdout",
     "output_type": "stream",
     "text": [
      "5421\n",
      "Poison 100/200 clients\n",
      "Flip 100.0% of the 3 labels to 8\n",
      "[182  95 140  52 141 169 133 162  41 157 111  18  34 129  84  78  44 187\n",
      "  26 164 143 126 192  97 190 123  67 195 170 161 131  64  48 107   0 101\n",
      "  13 102  25 154   2  86  63  49 167 189 165  93  87 112 199  53 159  46\n",
      "  91 198  90 135 104 117  72 150 186 184 146  51 173  58  23 138  55  39\n",
      "  32 136 105  35  14 132  29   9 113 155 176 185 194  96  54 120 180 172\n",
      "  16  20 181 196  21   1 121  99 128  31]\n",
      "20/100 clients poisoned\n",
      "40/100 clients poisoned\n",
      "60/100 clients poisoned\n",
      "80/100 clients poisoned\n",
      "100/100 clients poisoned\n",
      "Poisoned\n",
      "[]\n",
      "[23.646371811999224, 19.57157586642424, 21.796166320253665, 30.549380046515413, 22.8436856873714, 20.297643405090664, 23.723841294424282, 25.548185583570273, 22.183064905912232, 25.636629567875516, 24.976876802408682, 24.976697596003476, 22.94902202729432, 19.59280348556727, 30.426001471080703, 20.77286649671671, 22.59224365247646, 28.03451602941247, 26.733010576929033, 25.317107892483463, 24.34989134310914, 24.668437780199497, 23.803926441228857, 20.76994400889197, 26.925143876442476]\n",
      "[23.707992460161506, 25.22503987872902, 24.904202503488445, 23.926195667565757, 21.84626059134036, 23.234385174826865, 21.353010437812618, 25.236410780638355, 23.376483567641845, 27.34421628899976, 22.180903080101807, 21.607107538000342, 21.769319022585567, 23.098053068622203, 23.006208729707556, 22.885878479662928, 25.29229841597938, 24.21641226509309, 22.5368461811448, 22.722850566452347, 21.02434307847552, 22.2316004421761, 23.708906127861535, 26.34194857701338, 24.50325317049552]\n",
      "[23.931964166840913, 27.14029658988879, 24.170991260330354, 25.636105798943504, 22.76266193753024, 21.553470632612896, 22.43253951922371, 23.562716734349355, 27.083694869834023, 26.14690877125848, 20.020153204188617, 25.41395099969798, 24.944901688444332, 21.41310994184573, 21.80192590700188, 21.394335969017124, 23.806887597322316, 24.048574598788544, 22.46859506787632, 26.999181567763486, 22.290949939108035, 25.74093382706608, 24.986061548250056, 26.095799398135235, 26.03727566849196]\n",
      "5421\n",
      "Load default model successfully\n",
      "20/200 clients cleaned\n",
      "40/200 clients cleaned\n",
      "60/200 clients cleaned\n",
      "80/200 clients cleaned\n",
      "100/200 clients cleaned\n",
      "120/200 clients cleaned\n",
      "140/200 clients cleaned\n",
      "160/200 clients cleaned\n",
      "180/200 clients cleaned\n",
      "200/200 clients cleaned\n",
      "Cleaning successfully\n"
     ]
    }
   ],
   "source": [
    "import torch\n",
    "config.FROM_LABEL = 3\n",
    "config.TO_LABEL = 8\n",
    "for j in [100]:\n",
    "    data = config.DATASET(config)\n",
    "    client_plane = ClientPlane(config, observer_config, data, shap_util)\n",
    "    model_file = file = \"./temp/models/ex6/MNIST_round_{}.model\".format(j)\n",
    "    server.net =  MNISTCNN()\n",
    "    server.net.load_state_dict(torch.load(model_file))\n",
    "\n",
    "    server.test()\n",
    "    recall, precision, accuracy = server.analize_test()\n",
    "    print(\"Original\", recall, precision, accuracy)\n",
    "    server_shap = server.get_shap_values()\n",
    "\n",
    "    config.POISONED_CLIENTS = 100\n",
    "    experiment_util.update_configs(client_plane, server, config, observer_config)\n",
    "    print(len(client_plane.clients[0].train_dataloader.dataset.dataset.targets[client_plane.clients[0].train_dataloader.dataset.dataset.targets == 5]))\n",
    "\n",
    "    client_plane.poison_clients()\n",
    "    clean_clients = experiment_util.select_random_clean(client_plane, config, 100)\n",
    "    poisoned_clients = experiment_util.select_poisoned(client_plane, 100)\n",
    "    clean_dis = []\n",
    "    poisoned_dis = []\n",
    "    clean_diff = []\n",
    "    poisoned_diff = []\n",
    "    clean_max_diff = []\n",
    "    poisoned_max_diff = []\n",
    "    clean_max_dis = []\n",
    "    poisoned_max_dis = []\n",
    "    print(\"Clean\")\n",
    "    print(len(client_plane.clients[0].train_dataloader.dataset.dataset.targets[client_plane.clients[0].train_dataloader.dataset.dataset.targets == 5]))\n",
    "    for idx, i in enumerate(clean_clients[:100]):\n",
    "        client_plane.update_clients(server.get_nn_parameters())\n",
    "        client_plane.clients[i].train(j+1)\n",
    "        clean_client_shap = client_plane.clients[i].get_shap_values()\n",
    "        distance, diff, dis_max, diff_max = cos_similarity_values(clean_client_shap, server_shap)\n",
    "        clean_dis.append(distance)\n",
    "        clean_diff.append(diff)\n",
    "        clean_max_dis.append(dis_max)\n",
    "        clean_max_diff.append(diff_max)\n",
    "        if (idx+1)%25 == 0:\n",
    "            print(clean_dis[idx-25:idx])\n",
    "    \n",
    "    clean = {\n",
    "        \"dis\" : clean_dis, \n",
    "        \"diff\" : clean_diff,\n",
    "        \"max_dis\" : clean_max_dis,\n",
    "        \"max_diff\" : clean_max_diff\n",
    "    }\n",
    "\n",
    "    print(\"Poisoned\")\n",
    "    server.net =  MNISTCNN()\n",
    "    server.net.load_state_dict(torch.load(model_file))\n",
    "    for idx, i in enumerate(poisoned_clients[:100]):\n",
    "        client_plane.update_clients(server.get_nn_parameters())    \n",
    "        client_plane.clients[i].train(j+1)\n",
    "        poisoned_client_shap = client_plane.clients[i].get_shap_values()\n",
    "        distance, diff, dis_max, diff_max = cos_similarity_values(poisoned_client_shap, server_shap)\n",
    "        poisoned_dis.append(distance)\n",
    "        poisoned_diff.append(diff)\n",
    "        poisoned_max_dis.append(dis_max)\n",
    "        poisoned_max_diff.append(diff_max)\n",
    "        if (idx+1)%25 == 0:\n",
    "            print(poisoned_dis[idx-25:idx])\n",
    "    print(len(client_plane.clients[poisoned_clients[0]].train_dataloader.dataset.dataset.targets[client_plane.clients[poisoned_clients[0]].train_dataloader.dataset.dataset.targets == 5]))\n",
    "    client_plane.reset_default_client_nets()\n",
    "    client_plane.reset_poisoning_attack()\n",
    "    \n",
    "    poisoned = {\n",
    "        \"dis\" : poisoned_dis, \n",
    "        \"diff\" : poisoned_diff,\n",
    "        \"max_dis\" : poisoned_max_dis,\n",
    "        \"max_diff\" : poisoned_max_diff\n",
    "    }"
   ]
  },
  {
   "cell_type": "code",
   "execution_count": 34,
   "id": "e24cc959-5270-4580-bdcc-398425084793",
   "metadata": {
    "collapsed": true,
    "id": "e24cc959-5270-4580-bdcc-398425084793",
    "jupyter": {
     "outputs_hidden": true,
     "source_hidden": true
    },
    "outputId": "03263022-fa66-483c-95dd-209f09ef4836",
    "tags": []
   },
   "outputs": [
    {
     "name": "stdout",
     "output_type": "stream",
     "text": [
      "[15.530316455622417, 18.244994262760798, 20.836231860556786, 19.975176716495582, 17.67435601202746, 15.24317492068116, 18.80911652975068, 23.3779652276858, 18.95633340237264, 20.499526765716134, 18.186258815564354, 20.035178491146503, 18.396957921604173, 16.903583453221326, 20.284596315727768, 17.742191459164772, 20.418248917800376, 20.866013884757056, 16.872173573636594, 19.205362967662523, 19.18864946929456, 19.66393926118082, 17.655000348279188, 18.333519263186254, 17.366433898086978, 21.908157897900765, 18.326555985507238, 21.155069017772053, 19.318674771060333, 27.129678178967836, 17.957733497164877, 21.44502716965343, 17.007277753044963, 19.045306927595064, 19.640173197600777, 20.0775339796562, 20.63190986840273, 19.16170179565608, 20.219699594867684, 16.16571347255154, 20.744657731466468, 17.963838393081662, 16.477355364441372, 23.91165657303493, 18.41753628302295, 23.23727536645302, 23.145276770511607, 19.490551919275156, 17.636783745889097, 20.054525204752043, 18.88956089407467, 20.388164331116723, 22.443216640028034, 17.16045004574955, 15.453803244565098, 19.469279652752455, 21.512649335006667, 20.04666511466135, 20.272819080464334, 21.68339165665508, 21.91198132323455, 21.39507231668292, 22.93170381015025, 19.73832642637193, 22.79769139212714, 16.554831844676613, 18.300412821798247, 16.540952591873246, 19.820048500076357, 19.090427324445834, 15.641098889833513, 18.213739989537014, 15.78114693783241, 20.117666188631542, 16.78516489351397, 20.435096923098605, 22.312324952842793, 19.67690013660946, 22.936159869584326, 22.12655559400322, 16.74146375203559, 21.678977673821183, 22.680598261653174, 20.455417815825875, 19.766539693220007, 17.08151013930475, 20.19783728639663, 16.951142677451188, 16.226506756353505, 16.216008437629824, 19.486974206634304, 19.07331704790341, 22.683272858195494, 20.44455178509297, 22.8876926064777, 21.979666345065493, 21.512083062898768, 18.422502925212815, 17.608651098062552, 18.50921737503803]\n"
     ]
    }
   ],
   "source": [
    "print(clean_dis)"
   ]
  },
  {
   "cell_type": "code",
   "execution_count": null,
   "id": "13c18a0e-e935-4d33-ae8d-df51061f5385",
   "metadata": {},
   "outputs": [],
   "source": [
    "import pprint\n",
    "pp = pprint.PrettyPrinter(width=6000, compact=True)\n",
    "pp.pprint(clean)"
   ]
  },
  {
   "cell_type": "code",
   "execution_count": 11,
   "id": "342dd318-d539-496e-ba9c-5badcb587fb2",
   "metadata": {},
   "outputs": [
    {
     "name": "stdout",
     "output_type": "stream",
     "text": [
      "{'diff': [4.138825272434802, 3.9890556130470554, 3.7605831580209848, 4.288160387569662, 3.951151617006152, 3.8543257209614605, 4.542228708265322, 4.288609671812848, 3.7360607379526565, 3.637136322806773, 4.960149209811931, 3.811809255802157, 4.6973482738977195, 5.9544451274159735, 4.239652754369981, 4.110811793110369, 4.117237723245027, 3.6114044219418613, 4.164322125658867, 4.355807619345545, 3.8494222035850525, 3.6456042710336045, 4.2149156901675315, 3.9244651414639424, 4.0001899589936, 4.183415400980055, 4.314561789343797, 4.447573396654443, 3.936449946329779, 3.712628749262256, 3.5097678275803275, 4.565463707150295, 4.052044279491397, 4.541141742663765, 3.9263968107808647, 3.7707233199551373, 4.730321053948193, 4.122791654883925, 4.038236687400711, 3.7368496529142416, 4.235261004918372, 4.740692086008461, 4.109060253074709, 4.87615279295728, 3.867872458369344, 3.553725589500758, 4.09126263424769, 4.193688227223318, 4.015697604632393, 4.005142493977589, 4.072904481801739, 4.523662885669684, 3.651964407922957, 3.7854270048450713, 4.185424341762648, 4.287943650276877, 4.032745472501607, 4.220527145567985, 4.227748991187929, 4.317857153160975, 3.4262866607074782, 4.1235275084407785, 4.245723864976693, 3.8300783998408474, 3.7610625987322015, 4.7778710371932895, 4.092594259101612, 4.079644312897072, 4.340980868386069, 3.942991231893505, 3.6997950847527967, 4.487361123214347, 4.587138781192955, 4.037619655225686, 3.9980503091085553, 5.597315475332191, 4.008588046747239, 4.413768133659555, 4.029104791554822, 3.7790576958887954, 4.126702157355474, 3.914106645677618, 4.340582420386519, 4.618728678172481, 3.479515941603381, 4.5241928951883486, 3.9308703086626506, 3.957469856114375, 3.7354456456548455, 3.937820873632048, 3.9568083903756186, 4.059181229457674, 3.9687045550474456, 4.060562857160314, 4.570893383715285, 4.1002243023434914, 3.916543005511057, 4.09017096580771, 4.053142980710796, 3.897819474954434],\n",
      " 'dis': [21.80471470104555, 24.41820884384809, 23.481220847531766, 26.91737947916848, 22.714765882874133, 25.802467487978337, 24.263942648938023, 21.758322389150244, 24.115258205464595, 27.2211839595975, 31.904886555336464, 25.709886514485135, 26.31541754521516, 27.93365253300194, 26.024549201303202, 23.554713825966513, 24.0798873195436, 23.266774945455573, 26.489878233578217, 20.724481583347472, 23.467210854904057, 19.454961700133037, 23.749578193547833, 20.515755993708606, 23.646371811999224, 19.57157586642424, 21.796166320253665, 30.549380046515413, 22.8436856873714, 20.297643405090664, 23.723841294424282, 25.548185583570273, 22.183064905912232, 25.636629567875516, 24.976876802408682, 24.976697596003476, 22.94902202729432, 19.59280348556727, 30.426001471080703, 20.77286649671671, 22.59224365247646, 28.03451602941247, 26.733010576929033, 25.317107892483463, 24.34989134310914, 24.668437780199497, 23.803926441228857, 20.76994400889197, 26.925143876442476, 23.707992460161506, 25.22503987872902, 24.904202503488445, 23.926195667565757, 21.84626059134036, 23.234385174826865, 21.353010437812618, 25.236410780638355, 23.376483567641845, 27.34421628899976, 22.180903080101807, 21.607107538000342, 21.769319022585567, 23.098053068622203, 23.006208729707556, 22.885878479662928, 25.29229841597938, 24.21641226509309, 22.5368461811448, 22.722850566452347, 21.02434307847552, 22.2316004421761, 23.708906127861535, 26.34194857701338, 24.50325317049552, 23.931964166840913, 27.14029658988879, 24.170991260330354, 25.636105798943504, 22.76266193753024, 21.553470632612896, 22.43253951922371, 23.562716734349355, 27.083694869834023, 26.14690877125848, 20.020153204188617, 25.41395099969798, 24.944901688444332, 21.41310994184573, 21.80192590700188, 21.394335969017124, 23.806887597322316, 24.048574598788544, 22.46859506787632, 26.999181567763486, 22.290949939108035, 25.74093382706608, 24.986061548250056, 26.095799398135235, 26.03727566849196, 21.563149264564927],\n",
      " 'max_diff': [0.7948802922657715, 0.8055633672812269, 0.8024023511351046, 0.7850961673708019, 0.785674609231763, 0.8211578911923669, 0.8266112304348461, 0.7946863897788146, 0.786000255250618, 0.8046495863990869, 0.8182139560326828, 0.7727517528217189, 0.813485293270788, 0.8220905745531256, 0.8198357107675129, 0.807675117248609, 0.8108805848625096, 0.7815806606413243, 0.7942540652281325, 0.8294308367193943, 0.7413556441907309, 0.7820450932137717, 0.7606980828742991, 0.8067733677277443, 0.8071221561196651, 0.8148817180207626, 0.8270113392361101, 0.8141122479678627, 0.7883003591152941, 0.765509707349686, 0.7931871470256115, 0.8101856916276517, 0.8015726188470933, 0.8126976256820524, 0.7196838170430819, 0.7975034753363172, 0.8189710173901934, 0.8049898054630147, 0.8265571089593913, 0.806297868691107, 0.8123830605242781, 0.8174276328849426, 0.8183759074779119, 0.8058748087794618, 0.8059256871781846, 0.7923767273659474, 0.8275095376549924, 0.8177686340579232, 0.748072852441558, 0.7973374556715784, 0.759562683195098, 0.8209064908902792, 0.8069283722780047, 0.74999272955522, 0.821827333132624, 0.805162571360467, 0.793723019730613, 0.8148122904321873, 0.8084123379807309, 0.8298825018077925, 0.7882343025929456, 0.8110229017590523, 0.8121474260133106, 0.7871925552254235, 0.8233534007457106, 0.8216234638858058, 0.7602956472167579, 0.8052559165733236, 0.8104722897306692, 0.7884838053450625, 0.8220035112461763, 0.8125485864548632, 0.8146461213548982, 0.8253528624407651, 0.8151676749005288, 0.8293195562270478, 0.8062328298348803, 0.77226232974908, 0.8295629292282858, 0.7973393934183319, 0.7917412554255425, 0.7977100934204321, 0.7763385353331007, 0.8211186240670292, 0.7997383892508603, 0.8185830616700724, 0.8156032283791863, 0.812088488485254, 0.8011380130345416, 0.8076807725994195, 0.8151541906536018, 0.7977762427269124, 0.8118791784529582, 0.8070663332736853, 0.8160074792845912, 0.823102605137574, 0.8221574935417022, 0.800449994663862, 0.8310325203138825, 0.8284596847109233],\n",
      " 'max_dis': [1.7461307722770043, 1.7197799813070525, 1.6375710799664374, 1.7725899283710271, 1.7629079142985877, 1.8219809733528964, 1.7087116182233015, 1.7173819655554934, 1.8321318346505455, 1.6548398774386146, 1.8240709972259896, 1.7529579671757114, 1.6693720580634421, 1.7669123634493706, 1.8251416355945065, 1.76139115506622, 1.8260942624492689, 1.635795836321638, 1.625110487282941, 1.7013827464291205, 1.8217501031610865, 1.6905618740419253, 1.7449746487160303, 1.9019546907905056, 1.770322049770253, 1.740849689932762, 1.7465483846973369, 1.7888764176137433, 1.7695984984649502, 1.6923336322768168, 1.8665190303176438, 1.7880663642514965, 1.8270920135493118, 1.852177680881009, 1.8244405688692822, 1.8258168822864798, 1.8199916263155607, 1.4543639558506551, 1.6853845224746307, 1.7219036310189892, 1.8110553898323842, 1.6763895390311498, 1.9227768912099843, 1.6930829697119814, 1.8049423883886448, 1.8143965733202774, 1.7706160593598868, 1.6878022261622614, 1.79580335499061, 1.8776245213418106, 1.7718056301640979, 1.6621972806412124, 1.9373347258506208, 1.7350254916178116, 1.669825684759398, 1.784753142727248, 1.9326970522907088, 1.71475311032049, 1.6961782193703085, 1.797229227364549, 1.59930894169408, 1.589281274738875, 1.7386709321396139, 1.7022147632196525, 1.8087753719491122, 1.722312544886558, 1.795575173251364, 1.818983653928822, 1.872130659760446, 1.7203067483237426, 1.6964129909597019, 1.7877405887281157, 1.7021102900682812, 1.7115129550032293, 1.9087104115720446, 1.7207259979186027, 1.804522059101398, 1.8662217361919529, 1.4095220733310119, 1.6690274262675953, 1.6822232295457027, 1.856061917892362, 1.7617840339271196, 1.6419601302656917, 1.8363316184771823, 1.653962608304912, 1.8523648139548632, 1.756373184164103, 1.9139763923426458, 1.7797387591515323, 1.6941675800336464, 1.6919954335258713, 1.579488932048545, 1.7486494042864664, 1.7740458051433032, 1.7776172187368902, 1.7644457818118755, 1.9192950548489969, 1.6958578007229188, 1.7473152249106696]}\n"
     ]
    }
   ],
   "source": [
    "import pprint\n",
    "pp = pprint.PrettyPrinter(width=6000, compact=True)\n",
    "pp.pprint(poisoned)"
   ]
  },
  {
   "cell_type": "markdown",
   "id": "a266a1b2-03b6-47d9-a3df-f7b031b3ee3e",
   "metadata": {
    "id": "a266a1b2-03b6-47d9-a3df-f7b031b3ee3e",
    "tags": []
   },
   "source": [
    "# Fashion MNIST"
   ]
  },
  {
   "cell_type": "code",
   "execution_count": null,
   "id": "68aff4bd-5c29-49fd-9a9c-5139699e19cc",
   "metadata": {
    "id": "68aff4bd-5c29-49fd-9a9c-5139699e19cc"
   },
   "outputs": [],
   "source": [
    "from federated_learning.nets import FMNISTCNN\n",
    "from federated_learning.dataset import FMNISTDataset\n",
    "import os\n",
    "config = Configuration()\n",
    "config.POISONED_CLIENTS = 0\n",
    "config.DATA_POISONING_PERCENTAGE = 1\n",
    "config.DATASET = FMNISTDataset\n",
    "config.MODELNAME = config.FMNIST_NAME\n",
    "config.NETWORK = FMNISTCNN\n",
    "observer_config = ObserverConfiguration()\n",
    "observer_config.experiment_type = \"shap_fl_poisoned\"\n",
    "observer_config.experiment_id = 1\n",
    "observer_config.test = False\n",
    "observer_config.datasetObserverConfiguration = \"MNIST\"\n",
    "neutral_label = 2"
   ]
  },
  {
   "cell_type": "code",
   "execution_count": null,
   "id": "40c9a121-61f6-4066-bdfc-07e923bb7d6e",
   "metadata": {
    "id": "40c9a121-61f6-4066-bdfc-07e923bb7d6e"
   },
   "outputs": [],
   "source": [
    "# Google Colab Settigns\n",
    "config.TEMP = os.path.join('/content/drive/My Drive/Colab Notebooks/temp')\n",
    "config.FMNIST_DATASET_PATH = os.path.join('/content/data/fmnist')\n",
    "config.MNIST_DATASET_PATH = os.path.join('/content/data/mnist')\n",
    "config.CIFAR10_DATASET_PATH = os.path.join('/content/data/cifar10')\n",
    "config.VM_URL = \"none\""
   ]
  },
  {
   "cell_type": "code",
   "execution_count": null,
   "id": "41fb51e7-cf94-4c2c-8cff-b48065fecce0",
   "metadata": {
    "colab": {
     "base_uri": "https://localhost:8080/",
     "height": 502,
     "referenced_widgets": [
      "76d7fb538cb948ebb8f5c7f0fdd8e364",
      "51828d8518844dc1b8e2f91a3f4f6b36",
      "00061c35a0a04bfe8d7d1420d6e59c66",
      "a035f0b2551b4d4dbbad4dd9c7a8eefc",
      "cee1629ea5e041cfb32f40b588bdafbd",
      "aa77356552884ddbbcd7b4bc320414f3",
      "bff7c3ead2954ecb9ecaffc47e952e7a",
      "50b7fb177e614b219c48106d3cb73f45",
      "dd9095a327db4b00b2c039493aa12a04",
      "a921394dff694adf8069b436a167229f",
      "c77200f658fe416e8559d2411bd86ee1",
      "32e7272cfb214516b99fc0c4d91df36c",
      "148640a1429f47da891fe4231fd71693",
      "dc5a262bd30246f7a666656ca8884f0d",
      "e59f1b67dbef4d72bfead0411cad1dda",
      "a2e6175300e64514a3a7471b0a1386a5",
      "943c58488c504376b3e9623ec8b0aa62",
      "4640abb148e7470fbf7df478dbdc2c19",
      "1b868fa1592e4afeab25f0d6bed46992",
      "791ffd9e5feb42c5a30b19c585d4c8ca",
      "9b161079c4544d74a74c91daee9da9d3",
      "de9424722b03404c85fdf60c91ba1c37",
      "b62734d37476482a8f8f0e71c1ab611f",
      "33ca1dcd518846aa977faac036326846",
      "5d8028166d904a6abe44161e079f6ba0",
      "24cd61d3fa14432590b416f09246781e",
      "651ef213276044d68d0aa068897b65de",
      "1138db8ac7bd42ad98b9f468c5f8eb73",
      "7c929515a86d4c72b25cc4e37ddd5fe0",
      "91b39492002841a78595543d0daa5eb8",
      "2c7925573d934d59879bcdd856eb7f3b",
      "7455fc7f09524975803189c017f2b1b1",
      "de045f797dd84c258c59a95e1b9f16c3",
      "1318cc971ab3417585154222b62af03d",
      "b63585053506446b8b883725c70de890",
      "f068917894fa46a7806ca6c78cbea7ad",
      "2be05f7170a340699b4538bbf8876cb7",
      "36b7b00ad6f74168a1be98869abcae85",
      "34b2968a38c24feab364cdccb1865008",
      "5e919a4a1a3047fea9aea3744325106f",
      "977d7b1af1b344ffaf9ec4bafafeeaf5",
      "429f6d23bcad468eb2a711aa9fea17e9",
      "fcd9f80b6403493e9f35ad4cd09ef070",
      "3af640de0fef489ea2be1726a26c13ad"
     ]
    },
    "id": "41fb51e7-cf94-4c2c-8cff-b48065fecce0",
    "outputId": "2031598c-45ac-40a6-95ea-a79a5311b57c"
   },
   "outputs": [],
   "source": [
    "data = config.DATASET(config)\n",
    "shap_util = SHAPUtil(data.test_dataloader) \n",
    "server = Server(config, observer_config,data.train_dataloader, data.test_dataloader, shap_util)\n",
    "client_plane = ClientPlane(config, observer_config, data, shap_util)\n",
    "visualizer = Visualizer(shap_util)"
   ]
  },
  {
   "cell_type": "code",
   "execution_count": null,
   "id": "6bf856de-9c7d-428f-a02d-22b950def20a",
   "metadata": {
    "id": "6bf856de-9c7d-428f-a02d-22b950def20a"
   },
   "outputs": [],
   "source": [
    "import numpy as np\n",
    "import copy\n",
    "import torch\n",
    "import os\n",
    "for i in range(200):\n",
    "    if (i+1) in [2, 5,10,75,100,200]:\n",
    "        file = \"/content/drive/My Drive/Colab Notebooks/temp/models/ex6/FMNIST_round_{}.model\".format(i+1)\n",
    "        if not os.path.exists(os.path.dirname(file)):\n",
    "                os.makedirs(os.path.dirname(file))\n",
    "        torch.save(server.net.state_dict(), file)\n",
    "    experiment_util.set_rounds(client_plane, server, i+1)\n",
    "    experiment_util.run_round(client_plane, server, i+1)"
   ]
  },
  {
   "cell_type": "code",
   "execution_count": null,
   "id": "624de3f9-1c93-4a91-b05d-5b655d75d15b",
   "metadata": {
    "colab": {
     "base_uri": "https://localhost:8080/"
    },
    "id": "624de3f9-1c93-4a91-b05d-5b655d75d15b",
    "outputId": "021228e5-e26c-4e06-f7d8-791c9c670267"
   },
   "outputs": [],
   "source": [
    "import torch\n",
    "config.FROM_LABEL = 5\n",
    "config.TO_LABEL = 4\n",
    "shap_images = [config.FROM_LABEL ,config.TO_LABEL]\n",
    "for j in [100]:\n",
    "    data = config.DATASET(config)\n",
    "    client_plane = ClientPlane(config, observer_config, data, shap_util)\n",
    "    model_file = file = \"/content/drive/My Drive/Colab Notebooks/temp/models/ex6/FMNIST_round_{}.model\".format(j)\n",
    "    server.net = FMNISTCNN()\n",
    "    server.net.load_state_dict(torch.load(model_file))\n",
    "\n",
    "    server.test()\n",
    "    recall, precision, accuracy = server.analize_test()\n",
    "    print(\"Original\", recall, precision, accuracy)\n",
    "    server_shap = server.get_shap_values()\n",
    "\n",
    "    config.POISONED_CLIENTS = 100\n",
    "    experiment_util.update_configs(client_plane, server, config, observer_config)\n",
    "    print(len(client_plane.clients[0].train_dataloader.dataset.dataset.targets[client_plane.clients[0].train_dataloader.dataset.dataset.targets == 5]))\n",
    "\n",
    "    client_plane.poison_clients()\n",
    "    clean_clients = experiment_util.select_random_clean(client_plane, config, 100)\n",
    "    poisoned_clients = experiment_util.select_poisoned(client_plane, 100)\n",
    "    clean_dis = []\n",
    "    poisoned_dis = []\n",
    "    clean_diff = []\n",
    "    poisoned_diff = []\n",
    "    clean_max_diff = []\n",
    "    poisoned_max_diff = []\n",
    "    clean_max_dis = []\n",
    "    poisoned_max_dis = []\n",
    "    print(\"Clean\")\n",
    "    print(len(client_plane.clients[0].train_dataloader.dataset.dataset.targets[client_plane.clients[0].train_dataloader.dataset.dataset.targets == 5]))\n",
    "    for idx, i in enumerate(clean_clients[:100]):\n",
    "        client_plane.update_clients(server.get_nn_parameters())\n",
    "        client_plane.clients[i].train(j+1)\n",
    "        clean_client_shap = client_plane.clients[i].get_shap_values()\n",
    "        distance, diff, dis_max, diff_max = cos_similarity_values(clean_client_shap, server_shap)\n",
    "        clean_dis.append(distance)\n",
    "        clean_diff.append(diff)\n",
    "        clean_max_dis.append(dis_max)\n",
    "        clean_max_diff.append(diff_max)\n",
    "        if (idx+1)%25 == 0:\n",
    "            print(clean_dis[idx-25:idx])\n",
    "    \n",
    "    clean = {\n",
    "        \"dis\" : clean_dis, \n",
    "        \"diff\" : clean_diff,\n",
    "        \"max_dis\" : clean_max_dis,\n",
    "        \"max_diff\" : clean_max_diff\n",
    "    }\n",
    "\n",
    "    print(\"Poisoned\")\n",
    "    server.net =  FMNISTCNN()\n",
    "    server.net.load_state_dict(torch.load(model_file))\n",
    "    for idx, i in enumerate(poisoned_clients[:100]):\n",
    "        client_plane.update_clients(server.get_nn_parameters())    \n",
    "        client_plane.clients[i].train(j+1)\n",
    "        poisoned_client_shap = client_plane.clients[i].get_shap_values()\n",
    "        distance, diff, dis_max, diff_max = cos_similarity_values(poisoned_client_shap, server_shap)\n",
    "        poisoned_dis.append(distance)\n",
    "        poisoned_diff.append(diff)\n",
    "        poisoned_max_dis.append(dis_max)\n",
    "        poisoned_max_diff.append(diff_max)\n",
    "        if (idx+1)%25 == 0:\n",
    "            print(poisoned_dis[idx-25:idx])\n",
    "    print(len(client_plane.clients[poisoned_clients[0]].train_dataloader.dataset.dataset.targets[client_plane.clients[poisoned_clients[0]].train_dataloader.dataset.dataset.targets == 5]))\n",
    "    client_plane.reset_default_client_nets()\n",
    "    client_plane.reset_poisoning_attack()\n",
    "    \n",
    "    poisoned = {\n",
    "        \"dis\" : poisoned_dis, \n",
    "        \"diff\" : poisoned_diff,\n",
    "        \"max_dis\" : poisoned_max_dis,\n",
    "        \"max_diff\" : poisoned_max_diff\n",
    "    }"
   ]
  },
  {
   "cell_type": "code",
   "execution_count": null,
   "id": "KB0rSu-UbnAD",
   "metadata": {
    "id": "KB0rSu-UbnAD"
   },
   "outputs": [],
   "source": [
    "print(clean_distance)"
   ]
  },
  {
   "cell_type": "code",
   "execution_count": null,
   "id": "qmv2FvMVbqOw",
   "metadata": {
    "id": "qmv2FvMVbqOw"
   },
   "outputs": [],
   "source": [
    "print(poisoned_distance)"
   ]
  },
  {
   "cell_type": "code",
   "execution_count": null,
   "id": "-6ljp1O0bINO",
   "metadata": {
    "id": "-6ljp1O0bINO"
   },
   "outputs": [],
   "source": [
    "print(clean_diff)"
   ]
  },
  {
   "cell_type": "code",
   "execution_count": null,
   "id": "LazBwD4abIWV",
   "metadata": {
    "id": "LazBwD4abIWV"
   },
   "outputs": [],
   "source": [
    "print(poisoned_diff)"
   ]
  },
  {
   "cell_type": "code",
   "execution_count": null,
   "id": "fj9jQYHhbIbq",
   "metadata": {
    "id": "fj9jQYHhbIbq"
   },
   "outputs": [],
   "source": [
    "print(clean_max)"
   ]
  },
  {
   "cell_type": "code",
   "execution_count": null,
   "id": "Bh5EJEWVbIjX",
   "metadata": {
    "id": "Bh5EJEWVbIjX"
   },
   "outputs": [],
   "source": [
    "print(poisoned_max)"
   ]
  }
 ],
 "metadata": {
  "colab": {
   "name": "differences_feature_engineering_shap_values_ex3.ipynb",
   "provenance": []
  },
  "kernelspec": {
   "display_name": "Python 3 (ipykernel)",
   "language": "python",
   "name": "python3"
  },
  "language_info": {
   "codemirror_mode": {
    "name": "ipython",
    "version": 3
   },
   "file_extension": ".py",
   "mimetype": "text/x-python",
   "name": "python",
   "nbconvert_exporter": "python",
   "pygments_lexer": "ipython3",
   "version": "3.9.12"
  },
  "widgets": {
   "application/vnd.jupyter.widget-state+json": {
    "00061c35a0a04bfe8d7d1420d6e59c66": {
     "model_module": "@jupyter-widgets/controls",
     "model_module_version": "1.5.0",
     "model_name": "FloatProgressModel",
     "state": {
      "_dom_classes": [],
      "_model_module": "@jupyter-widgets/controls",
      "_model_module_version": "1.5.0",
      "_model_name": "FloatProgressModel",
      "_view_count": null,
      "_view_module": "@jupyter-widgets/controls",
      "_view_module_version": "1.5.0",
      "_view_name": "ProgressView",
      "bar_style": "success",
      "description": "",
      "description_tooltip": null,
      "layout": "IPY_MODEL_50b7fb177e614b219c48106d3cb73f45",
      "max": 26421880,
      "min": 0,
      "orientation": "horizontal",
      "style": "IPY_MODEL_dd9095a327db4b00b2c039493aa12a04",
      "value": 26421880
     }
    },
    "1138db8ac7bd42ad98b9f468c5f8eb73": {
     "model_module": "@jupyter-widgets/base",
     "model_module_version": "1.2.0",
     "model_name": "LayoutModel",
     "state": {
      "_model_module": "@jupyter-widgets/base",
      "_model_module_version": "1.2.0",
      "_model_name": "LayoutModel",
      "_view_count": null,
      "_view_module": "@jupyter-widgets/base",
      "_view_module_version": "1.2.0",
      "_view_name": "LayoutView",
      "align_content": null,
      "align_items": null,
      "align_self": null,
      "border": null,
      "bottom": null,
      "display": null,
      "flex": null,
      "flex_flow": null,
      "grid_area": null,
      "grid_auto_columns": null,
      "grid_auto_flow": null,
      "grid_auto_rows": null,
      "grid_column": null,
      "grid_gap": null,
      "grid_row": null,
      "grid_template_areas": null,
      "grid_template_columns": null,
      "grid_template_rows": null,
      "height": null,
      "justify_content": null,
      "justify_items": null,
      "left": null,
      "margin": null,
      "max_height": null,
      "max_width": null,
      "min_height": null,
      "min_width": null,
      "object_fit": null,
      "object_position": null,
      "order": null,
      "overflow": null,
      "overflow_x": null,
      "overflow_y": null,
      "padding": null,
      "right": null,
      "top": null,
      "visibility": null,
      "width": null
     }
    },
    "1318cc971ab3417585154222b62af03d": {
     "model_module": "@jupyter-widgets/controls",
     "model_module_version": "1.5.0",
     "model_name": "HBoxModel",
     "state": {
      "_dom_classes": [],
      "_model_module": "@jupyter-widgets/controls",
      "_model_module_version": "1.5.0",
      "_model_name": "HBoxModel",
      "_view_count": null,
      "_view_module": "@jupyter-widgets/controls",
      "_view_module_version": "1.5.0",
      "_view_name": "HBoxView",
      "box_style": "",
      "children": [
       "IPY_MODEL_b63585053506446b8b883725c70de890",
       "IPY_MODEL_f068917894fa46a7806ca6c78cbea7ad",
       "IPY_MODEL_2be05f7170a340699b4538bbf8876cb7"
      ],
      "layout": "IPY_MODEL_36b7b00ad6f74168a1be98869abcae85"
     }
    },
    "148640a1429f47da891fe4231fd71693": {
     "model_module": "@jupyter-widgets/controls",
     "model_module_version": "1.5.0",
     "model_name": "HTMLModel",
     "state": {
      "_dom_classes": [],
      "_model_module": "@jupyter-widgets/controls",
      "_model_module_version": "1.5.0",
      "_model_name": "HTMLModel",
      "_view_count": null,
      "_view_module": "@jupyter-widgets/controls",
      "_view_module_version": "1.5.0",
      "_view_name": "HTMLView",
      "description": "",
      "description_tooltip": null,
      "layout": "IPY_MODEL_943c58488c504376b3e9623ec8b0aa62",
      "placeholder": "​",
      "style": "IPY_MODEL_4640abb148e7470fbf7df478dbdc2c19",
      "value": ""
     }
    },
    "1b868fa1592e4afeab25f0d6bed46992": {
     "model_module": "@jupyter-widgets/base",
     "model_module_version": "1.2.0",
     "model_name": "LayoutModel",
     "state": {
      "_model_module": "@jupyter-widgets/base",
      "_model_module_version": "1.2.0",
      "_model_name": "LayoutModel",
      "_view_count": null,
      "_view_module": "@jupyter-widgets/base",
      "_view_module_version": "1.2.0",
      "_view_name": "LayoutView",
      "align_content": null,
      "align_items": null,
      "align_self": null,
      "border": null,
      "bottom": null,
      "display": null,
      "flex": null,
      "flex_flow": null,
      "grid_area": null,
      "grid_auto_columns": null,
      "grid_auto_flow": null,
      "grid_auto_rows": null,
      "grid_column": null,
      "grid_gap": null,
      "grid_row": null,
      "grid_template_areas": null,
      "grid_template_columns": null,
      "grid_template_rows": null,
      "height": null,
      "justify_content": null,
      "justify_items": null,
      "left": null,
      "margin": null,
      "max_height": null,
      "max_width": null,
      "min_height": null,
      "min_width": null,
      "object_fit": null,
      "object_position": null,
      "order": null,
      "overflow": null,
      "overflow_x": null,
      "overflow_y": null,
      "padding": null,
      "right": null,
      "top": null,
      "visibility": null,
      "width": null
     }
    },
    "24cd61d3fa14432590b416f09246781e": {
     "model_module": "@jupyter-widgets/controls",
     "model_module_version": "1.5.0",
     "model_name": "HTMLModel",
     "state": {
      "_dom_classes": [],
      "_model_module": "@jupyter-widgets/controls",
      "_model_module_version": "1.5.0",
      "_model_name": "HTMLModel",
      "_view_count": null,
      "_view_module": "@jupyter-widgets/controls",
      "_view_module_version": "1.5.0",
      "_view_name": "HTMLView",
      "description": "",
      "description_tooltip": null,
      "layout": "IPY_MODEL_7455fc7f09524975803189c017f2b1b1",
      "placeholder": "​",
      "style": "IPY_MODEL_de045f797dd84c258c59a95e1b9f16c3",
      "value": " 4422656/? [00:00&lt;00:00, 6562032.22it/s]"
     }
    },
    "2be05f7170a340699b4538bbf8876cb7": {
     "model_module": "@jupyter-widgets/controls",
     "model_module_version": "1.5.0",
     "model_name": "HTMLModel",
     "state": {
      "_dom_classes": [],
      "_model_module": "@jupyter-widgets/controls",
      "_model_module_version": "1.5.0",
      "_model_name": "HTMLModel",
      "_view_count": null,
      "_view_module": "@jupyter-widgets/controls",
      "_view_module_version": "1.5.0",
      "_view_name": "HTMLView",
      "description": "",
      "description_tooltip": null,
      "layout": "IPY_MODEL_fcd9f80b6403493e9f35ad4cd09ef070",
      "placeholder": "​",
      "style": "IPY_MODEL_3af640de0fef489ea2be1726a26c13ad",
      "value": " 6144/? [00:00&lt;00:00, 156578.24it/s]"
     }
    },
    "2c7925573d934d59879bcdd856eb7f3b": {
     "model_module": "@jupyter-widgets/controls",
     "model_module_version": "1.5.0",
     "model_name": "ProgressStyleModel",
     "state": {
      "_model_module": "@jupyter-widgets/controls",
      "_model_module_version": "1.5.0",
      "_model_name": "ProgressStyleModel",
      "_view_count": null,
      "_view_module": "@jupyter-widgets/base",
      "_view_module_version": "1.2.0",
      "_view_name": "StyleView",
      "bar_color": null,
      "description_width": ""
     }
    },
    "32e7272cfb214516b99fc0c4d91df36c": {
     "model_module": "@jupyter-widgets/controls",
     "model_module_version": "1.5.0",
     "model_name": "HBoxModel",
     "state": {
      "_dom_classes": [],
      "_model_module": "@jupyter-widgets/controls",
      "_model_module_version": "1.5.0",
      "_model_name": "HBoxModel",
      "_view_count": null,
      "_view_module": "@jupyter-widgets/controls",
      "_view_module_version": "1.5.0",
      "_view_name": "HBoxView",
      "box_style": "",
      "children": [
       "IPY_MODEL_148640a1429f47da891fe4231fd71693",
       "IPY_MODEL_dc5a262bd30246f7a666656ca8884f0d",
       "IPY_MODEL_e59f1b67dbef4d72bfead0411cad1dda"
      ],
      "layout": "IPY_MODEL_a2e6175300e64514a3a7471b0a1386a5"
     }
    },
    "33ca1dcd518846aa977faac036326846": {
     "model_module": "@jupyter-widgets/controls",
     "model_module_version": "1.5.0",
     "model_name": "HTMLModel",
     "state": {
      "_dom_classes": [],
      "_model_module": "@jupyter-widgets/controls",
      "_model_module_version": "1.5.0",
      "_model_name": "HTMLModel",
      "_view_count": null,
      "_view_module": "@jupyter-widgets/controls",
      "_view_module_version": "1.5.0",
      "_view_name": "HTMLView",
      "description": "",
      "description_tooltip": null,
      "layout": "IPY_MODEL_1138db8ac7bd42ad98b9f468c5f8eb73",
      "placeholder": "​",
      "style": "IPY_MODEL_7c929515a86d4c72b25cc4e37ddd5fe0",
      "value": ""
     }
    },
    "34b2968a38c24feab364cdccb1865008": {
     "model_module": "@jupyter-widgets/base",
     "model_module_version": "1.2.0",
     "model_name": "LayoutModel",
     "state": {
      "_model_module": "@jupyter-widgets/base",
      "_model_module_version": "1.2.0",
      "_model_name": "LayoutModel",
      "_view_count": null,
      "_view_module": "@jupyter-widgets/base",
      "_view_module_version": "1.2.0",
      "_view_name": "LayoutView",
      "align_content": null,
      "align_items": null,
      "align_self": null,
      "border": null,
      "bottom": null,
      "display": null,
      "flex": null,
      "flex_flow": null,
      "grid_area": null,
      "grid_auto_columns": null,
      "grid_auto_flow": null,
      "grid_auto_rows": null,
      "grid_column": null,
      "grid_gap": null,
      "grid_row": null,
      "grid_template_areas": null,
      "grid_template_columns": null,
      "grid_template_rows": null,
      "height": null,
      "justify_content": null,
      "justify_items": null,
      "left": null,
      "margin": null,
      "max_height": null,
      "max_width": null,
      "min_height": null,
      "min_width": null,
      "object_fit": null,
      "object_position": null,
      "order": null,
      "overflow": null,
      "overflow_x": null,
      "overflow_y": null,
      "padding": null,
      "right": null,
      "top": null,
      "visibility": null,
      "width": null
     }
    },
    "36b7b00ad6f74168a1be98869abcae85": {
     "model_module": "@jupyter-widgets/base",
     "model_module_version": "1.2.0",
     "model_name": "LayoutModel",
     "state": {
      "_model_module": "@jupyter-widgets/base",
      "_model_module_version": "1.2.0",
      "_model_name": "LayoutModel",
      "_view_count": null,
      "_view_module": "@jupyter-widgets/base",
      "_view_module_version": "1.2.0",
      "_view_name": "LayoutView",
      "align_content": null,
      "align_items": null,
      "align_self": null,
      "border": null,
      "bottom": null,
      "display": null,
      "flex": null,
      "flex_flow": null,
      "grid_area": null,
      "grid_auto_columns": null,
      "grid_auto_flow": null,
      "grid_auto_rows": null,
      "grid_column": null,
      "grid_gap": null,
      "grid_row": null,
      "grid_template_areas": null,
      "grid_template_columns": null,
      "grid_template_rows": null,
      "height": null,
      "justify_content": null,
      "justify_items": null,
      "left": null,
      "margin": null,
      "max_height": null,
      "max_width": null,
      "min_height": null,
      "min_width": null,
      "object_fit": null,
      "object_position": null,
      "order": null,
      "overflow": null,
      "overflow_x": null,
      "overflow_y": null,
      "padding": null,
      "right": null,
      "top": null,
      "visibility": null,
      "width": null
     }
    },
    "3af640de0fef489ea2be1726a26c13ad": {
     "model_module": "@jupyter-widgets/controls",
     "model_module_version": "1.5.0",
     "model_name": "DescriptionStyleModel",
     "state": {
      "_model_module": "@jupyter-widgets/controls",
      "_model_module_version": "1.5.0",
      "_model_name": "DescriptionStyleModel",
      "_view_count": null,
      "_view_module": "@jupyter-widgets/base",
      "_view_module_version": "1.2.0",
      "_view_name": "StyleView",
      "description_width": ""
     }
    },
    "429f6d23bcad468eb2a711aa9fea17e9": {
     "model_module": "@jupyter-widgets/controls",
     "model_module_version": "1.5.0",
     "model_name": "ProgressStyleModel",
     "state": {
      "_model_module": "@jupyter-widgets/controls",
      "_model_module_version": "1.5.0",
      "_model_name": "ProgressStyleModel",
      "_view_count": null,
      "_view_module": "@jupyter-widgets/base",
      "_view_module_version": "1.2.0",
      "_view_name": "StyleView",
      "bar_color": null,
      "description_width": ""
     }
    },
    "4640abb148e7470fbf7df478dbdc2c19": {
     "model_module": "@jupyter-widgets/controls",
     "model_module_version": "1.5.0",
     "model_name": "DescriptionStyleModel",
     "state": {
      "_model_module": "@jupyter-widgets/controls",
      "_model_module_version": "1.5.0",
      "_model_name": "DescriptionStyleModel",
      "_view_count": null,
      "_view_module": "@jupyter-widgets/base",
      "_view_module_version": "1.2.0",
      "_view_name": "StyleView",
      "description_width": ""
     }
    },
    "50b7fb177e614b219c48106d3cb73f45": {
     "model_module": "@jupyter-widgets/base",
     "model_module_version": "1.2.0",
     "model_name": "LayoutModel",
     "state": {
      "_model_module": "@jupyter-widgets/base",
      "_model_module_version": "1.2.0",
      "_model_name": "LayoutModel",
      "_view_count": null,
      "_view_module": "@jupyter-widgets/base",
      "_view_module_version": "1.2.0",
      "_view_name": "LayoutView",
      "align_content": null,
      "align_items": null,
      "align_self": null,
      "border": null,
      "bottom": null,
      "display": null,
      "flex": null,
      "flex_flow": null,
      "grid_area": null,
      "grid_auto_columns": null,
      "grid_auto_flow": null,
      "grid_auto_rows": null,
      "grid_column": null,
      "grid_gap": null,
      "grid_row": null,
      "grid_template_areas": null,
      "grid_template_columns": null,
      "grid_template_rows": null,
      "height": null,
      "justify_content": null,
      "justify_items": null,
      "left": null,
      "margin": null,
      "max_height": null,
      "max_width": null,
      "min_height": null,
      "min_width": null,
      "object_fit": null,
      "object_position": null,
      "order": null,
      "overflow": null,
      "overflow_x": null,
      "overflow_y": null,
      "padding": null,
      "right": null,
      "top": null,
      "visibility": null,
      "width": null
     }
    },
    "51828d8518844dc1b8e2f91a3f4f6b36": {
     "model_module": "@jupyter-widgets/controls",
     "model_module_version": "1.5.0",
     "model_name": "HTMLModel",
     "state": {
      "_dom_classes": [],
      "_model_module": "@jupyter-widgets/controls",
      "_model_module_version": "1.5.0",
      "_model_name": "HTMLModel",
      "_view_count": null,
      "_view_module": "@jupyter-widgets/controls",
      "_view_module_version": "1.5.0",
      "_view_name": "HTMLView",
      "description": "",
      "description_tooltip": null,
      "layout": "IPY_MODEL_aa77356552884ddbbcd7b4bc320414f3",
      "placeholder": "​",
      "style": "IPY_MODEL_bff7c3ead2954ecb9ecaffc47e952e7a",
      "value": ""
     }
    },
    "5d8028166d904a6abe44161e079f6ba0": {
     "model_module": "@jupyter-widgets/controls",
     "model_module_version": "1.5.0",
     "model_name": "FloatProgressModel",
     "state": {
      "_dom_classes": [],
      "_model_module": "@jupyter-widgets/controls",
      "_model_module_version": "1.5.0",
      "_model_name": "FloatProgressModel",
      "_view_count": null,
      "_view_module": "@jupyter-widgets/controls",
      "_view_module_version": "1.5.0",
      "_view_name": "ProgressView",
      "bar_style": "success",
      "description": "",
      "description_tooltip": null,
      "layout": "IPY_MODEL_91b39492002841a78595543d0daa5eb8",
      "max": 4422102,
      "min": 0,
      "orientation": "horizontal",
      "style": "IPY_MODEL_2c7925573d934d59879bcdd856eb7f3b",
      "value": 4422102
     }
    },
    "5e919a4a1a3047fea9aea3744325106f": {
     "model_module": "@jupyter-widgets/controls",
     "model_module_version": "1.5.0",
     "model_name": "DescriptionStyleModel",
     "state": {
      "_model_module": "@jupyter-widgets/controls",
      "_model_module_version": "1.5.0",
      "_model_name": "DescriptionStyleModel",
      "_view_count": null,
      "_view_module": "@jupyter-widgets/base",
      "_view_module_version": "1.2.0",
      "_view_name": "StyleView",
      "description_width": ""
     }
    },
    "651ef213276044d68d0aa068897b65de": {
     "model_module": "@jupyter-widgets/base",
     "model_module_version": "1.2.0",
     "model_name": "LayoutModel",
     "state": {
      "_model_module": "@jupyter-widgets/base",
      "_model_module_version": "1.2.0",
      "_model_name": "LayoutModel",
      "_view_count": null,
      "_view_module": "@jupyter-widgets/base",
      "_view_module_version": "1.2.0",
      "_view_name": "LayoutView",
      "align_content": null,
      "align_items": null,
      "align_self": null,
      "border": null,
      "bottom": null,
      "display": null,
      "flex": null,
      "flex_flow": null,
      "grid_area": null,
      "grid_auto_columns": null,
      "grid_auto_flow": null,
      "grid_auto_rows": null,
      "grid_column": null,
      "grid_gap": null,
      "grid_row": null,
      "grid_template_areas": null,
      "grid_template_columns": null,
      "grid_template_rows": null,
      "height": null,
      "justify_content": null,
      "justify_items": null,
      "left": null,
      "margin": null,
      "max_height": null,
      "max_width": null,
      "min_height": null,
      "min_width": null,
      "object_fit": null,
      "object_position": null,
      "order": null,
      "overflow": null,
      "overflow_x": null,
      "overflow_y": null,
      "padding": null,
      "right": null,
      "top": null,
      "visibility": null,
      "width": null
     }
    },
    "7455fc7f09524975803189c017f2b1b1": {
     "model_module": "@jupyter-widgets/base",
     "model_module_version": "1.2.0",
     "model_name": "LayoutModel",
     "state": {
      "_model_module": "@jupyter-widgets/base",
      "_model_module_version": "1.2.0",
      "_model_name": "LayoutModel",
      "_view_count": null,
      "_view_module": "@jupyter-widgets/base",
      "_view_module_version": "1.2.0",
      "_view_name": "LayoutView",
      "align_content": null,
      "align_items": null,
      "align_self": null,
      "border": null,
      "bottom": null,
      "display": null,
      "flex": null,
      "flex_flow": null,
      "grid_area": null,
      "grid_auto_columns": null,
      "grid_auto_flow": null,
      "grid_auto_rows": null,
      "grid_column": null,
      "grid_gap": null,
      "grid_row": null,
      "grid_template_areas": null,
      "grid_template_columns": null,
      "grid_template_rows": null,
      "height": null,
      "justify_content": null,
      "justify_items": null,
      "left": null,
      "margin": null,
      "max_height": null,
      "max_width": null,
      "min_height": null,
      "min_width": null,
      "object_fit": null,
      "object_position": null,
      "order": null,
      "overflow": null,
      "overflow_x": null,
      "overflow_y": null,
      "padding": null,
      "right": null,
      "top": null,
      "visibility": null,
      "width": null
     }
    },
    "76d7fb538cb948ebb8f5c7f0fdd8e364": {
     "model_module": "@jupyter-widgets/controls",
     "model_module_version": "1.5.0",
     "model_name": "HBoxModel",
     "state": {
      "_dom_classes": [],
      "_model_module": "@jupyter-widgets/controls",
      "_model_module_version": "1.5.0",
      "_model_name": "HBoxModel",
      "_view_count": null,
      "_view_module": "@jupyter-widgets/controls",
      "_view_module_version": "1.5.0",
      "_view_name": "HBoxView",
      "box_style": "",
      "children": [
       "IPY_MODEL_51828d8518844dc1b8e2f91a3f4f6b36",
       "IPY_MODEL_00061c35a0a04bfe8d7d1420d6e59c66",
       "IPY_MODEL_a035f0b2551b4d4dbbad4dd9c7a8eefc"
      ],
      "layout": "IPY_MODEL_cee1629ea5e041cfb32f40b588bdafbd"
     }
    },
    "791ffd9e5feb42c5a30b19c585d4c8ca": {
     "model_module": "@jupyter-widgets/controls",
     "model_module_version": "1.5.0",
     "model_name": "ProgressStyleModel",
     "state": {
      "_model_module": "@jupyter-widgets/controls",
      "_model_module_version": "1.5.0",
      "_model_name": "ProgressStyleModel",
      "_view_count": null,
      "_view_module": "@jupyter-widgets/base",
      "_view_module_version": "1.2.0",
      "_view_name": "StyleView",
      "bar_color": null,
      "description_width": ""
     }
    },
    "7c929515a86d4c72b25cc4e37ddd5fe0": {
     "model_module": "@jupyter-widgets/controls",
     "model_module_version": "1.5.0",
     "model_name": "DescriptionStyleModel",
     "state": {
      "_model_module": "@jupyter-widgets/controls",
      "_model_module_version": "1.5.0",
      "_model_name": "DescriptionStyleModel",
      "_view_count": null,
      "_view_module": "@jupyter-widgets/base",
      "_view_module_version": "1.2.0",
      "_view_name": "StyleView",
      "description_width": ""
     }
    },
    "91b39492002841a78595543d0daa5eb8": {
     "model_module": "@jupyter-widgets/base",
     "model_module_version": "1.2.0",
     "model_name": "LayoutModel",
     "state": {
      "_model_module": "@jupyter-widgets/base",
      "_model_module_version": "1.2.0",
      "_model_name": "LayoutModel",
      "_view_count": null,
      "_view_module": "@jupyter-widgets/base",
      "_view_module_version": "1.2.0",
      "_view_name": "LayoutView",
      "align_content": null,
      "align_items": null,
      "align_self": null,
      "border": null,
      "bottom": null,
      "display": null,
      "flex": null,
      "flex_flow": null,
      "grid_area": null,
      "grid_auto_columns": null,
      "grid_auto_flow": null,
      "grid_auto_rows": null,
      "grid_column": null,
      "grid_gap": null,
      "grid_row": null,
      "grid_template_areas": null,
      "grid_template_columns": null,
      "grid_template_rows": null,
      "height": null,
      "justify_content": null,
      "justify_items": null,
      "left": null,
      "margin": null,
      "max_height": null,
      "max_width": null,
      "min_height": null,
      "min_width": null,
      "object_fit": null,
      "object_position": null,
      "order": null,
      "overflow": null,
      "overflow_x": null,
      "overflow_y": null,
      "padding": null,
      "right": null,
      "top": null,
      "visibility": null,
      "width": null
     }
    },
    "943c58488c504376b3e9623ec8b0aa62": {
     "model_module": "@jupyter-widgets/base",
     "model_module_version": "1.2.0",
     "model_name": "LayoutModel",
     "state": {
      "_model_module": "@jupyter-widgets/base",
      "_model_module_version": "1.2.0",
      "_model_name": "LayoutModel",
      "_view_count": null,
      "_view_module": "@jupyter-widgets/base",
      "_view_module_version": "1.2.0",
      "_view_name": "LayoutView",
      "align_content": null,
      "align_items": null,
      "align_self": null,
      "border": null,
      "bottom": null,
      "display": null,
      "flex": null,
      "flex_flow": null,
      "grid_area": null,
      "grid_auto_columns": null,
      "grid_auto_flow": null,
      "grid_auto_rows": null,
      "grid_column": null,
      "grid_gap": null,
      "grid_row": null,
      "grid_template_areas": null,
      "grid_template_columns": null,
      "grid_template_rows": null,
      "height": null,
      "justify_content": null,
      "justify_items": null,
      "left": null,
      "margin": null,
      "max_height": null,
      "max_width": null,
      "min_height": null,
      "min_width": null,
      "object_fit": null,
      "object_position": null,
      "order": null,
      "overflow": null,
      "overflow_x": null,
      "overflow_y": null,
      "padding": null,
      "right": null,
      "top": null,
      "visibility": null,
      "width": null
     }
    },
    "977d7b1af1b344ffaf9ec4bafafeeaf5": {
     "model_module": "@jupyter-widgets/base",
     "model_module_version": "1.2.0",
     "model_name": "LayoutModel",
     "state": {
      "_model_module": "@jupyter-widgets/base",
      "_model_module_version": "1.2.0",
      "_model_name": "LayoutModel",
      "_view_count": null,
      "_view_module": "@jupyter-widgets/base",
      "_view_module_version": "1.2.0",
      "_view_name": "LayoutView",
      "align_content": null,
      "align_items": null,
      "align_self": null,
      "border": null,
      "bottom": null,
      "display": null,
      "flex": null,
      "flex_flow": null,
      "grid_area": null,
      "grid_auto_columns": null,
      "grid_auto_flow": null,
      "grid_auto_rows": null,
      "grid_column": null,
      "grid_gap": null,
      "grid_row": null,
      "grid_template_areas": null,
      "grid_template_columns": null,
      "grid_template_rows": null,
      "height": null,
      "justify_content": null,
      "justify_items": null,
      "left": null,
      "margin": null,
      "max_height": null,
      "max_width": null,
      "min_height": null,
      "min_width": null,
      "object_fit": null,
      "object_position": null,
      "order": null,
      "overflow": null,
      "overflow_x": null,
      "overflow_y": null,
      "padding": null,
      "right": null,
      "top": null,
      "visibility": null,
      "width": null
     }
    },
    "9b161079c4544d74a74c91daee9da9d3": {
     "model_module": "@jupyter-widgets/base",
     "model_module_version": "1.2.0",
     "model_name": "LayoutModel",
     "state": {
      "_model_module": "@jupyter-widgets/base",
      "_model_module_version": "1.2.0",
      "_model_name": "LayoutModel",
      "_view_count": null,
      "_view_module": "@jupyter-widgets/base",
      "_view_module_version": "1.2.0",
      "_view_name": "LayoutView",
      "align_content": null,
      "align_items": null,
      "align_self": null,
      "border": null,
      "bottom": null,
      "display": null,
      "flex": null,
      "flex_flow": null,
      "grid_area": null,
      "grid_auto_columns": null,
      "grid_auto_flow": null,
      "grid_auto_rows": null,
      "grid_column": null,
      "grid_gap": null,
      "grid_row": null,
      "grid_template_areas": null,
      "grid_template_columns": null,
      "grid_template_rows": null,
      "height": null,
      "justify_content": null,
      "justify_items": null,
      "left": null,
      "margin": null,
      "max_height": null,
      "max_width": null,
      "min_height": null,
      "min_width": null,
      "object_fit": null,
      "object_position": null,
      "order": null,
      "overflow": null,
      "overflow_x": null,
      "overflow_y": null,
      "padding": null,
      "right": null,
      "top": null,
      "visibility": null,
      "width": null
     }
    },
    "a035f0b2551b4d4dbbad4dd9c7a8eefc": {
     "model_module": "@jupyter-widgets/controls",
     "model_module_version": "1.5.0",
     "model_name": "HTMLModel",
     "state": {
      "_dom_classes": [],
      "_model_module": "@jupyter-widgets/controls",
      "_model_module_version": "1.5.0",
      "_model_name": "HTMLModel",
      "_view_count": null,
      "_view_module": "@jupyter-widgets/controls",
      "_view_module_version": "1.5.0",
      "_view_name": "HTMLView",
      "description": "",
      "description_tooltip": null,
      "layout": "IPY_MODEL_a921394dff694adf8069b436a167229f",
      "placeholder": "​",
      "style": "IPY_MODEL_c77200f658fe416e8559d2411bd86ee1",
      "value": " 26422272/? [00:01&lt;00:00, 27083201.33it/s]"
     }
    },
    "a2e6175300e64514a3a7471b0a1386a5": {
     "model_module": "@jupyter-widgets/base",
     "model_module_version": "1.2.0",
     "model_name": "LayoutModel",
     "state": {
      "_model_module": "@jupyter-widgets/base",
      "_model_module_version": "1.2.0",
      "_model_name": "LayoutModel",
      "_view_count": null,
      "_view_module": "@jupyter-widgets/base",
      "_view_module_version": "1.2.0",
      "_view_name": "LayoutView",
      "align_content": null,
      "align_items": null,
      "align_self": null,
      "border": null,
      "bottom": null,
      "display": null,
      "flex": null,
      "flex_flow": null,
      "grid_area": null,
      "grid_auto_columns": null,
      "grid_auto_flow": null,
      "grid_auto_rows": null,
      "grid_column": null,
      "grid_gap": null,
      "grid_row": null,
      "grid_template_areas": null,
      "grid_template_columns": null,
      "grid_template_rows": null,
      "height": null,
      "justify_content": null,
      "justify_items": null,
      "left": null,
      "margin": null,
      "max_height": null,
      "max_width": null,
      "min_height": null,
      "min_width": null,
      "object_fit": null,
      "object_position": null,
      "order": null,
      "overflow": null,
      "overflow_x": null,
      "overflow_y": null,
      "padding": null,
      "right": null,
      "top": null,
      "visibility": null,
      "width": null
     }
    },
    "a921394dff694adf8069b436a167229f": {
     "model_module": "@jupyter-widgets/base",
     "model_module_version": "1.2.0",
     "model_name": "LayoutModel",
     "state": {
      "_model_module": "@jupyter-widgets/base",
      "_model_module_version": "1.2.0",
      "_model_name": "LayoutModel",
      "_view_count": null,
      "_view_module": "@jupyter-widgets/base",
      "_view_module_version": "1.2.0",
      "_view_name": "LayoutView",
      "align_content": null,
      "align_items": null,
      "align_self": null,
      "border": null,
      "bottom": null,
      "display": null,
      "flex": null,
      "flex_flow": null,
      "grid_area": null,
      "grid_auto_columns": null,
      "grid_auto_flow": null,
      "grid_auto_rows": null,
      "grid_column": null,
      "grid_gap": null,
      "grid_row": null,
      "grid_template_areas": null,
      "grid_template_columns": null,
      "grid_template_rows": null,
      "height": null,
      "justify_content": null,
      "justify_items": null,
      "left": null,
      "margin": null,
      "max_height": null,
      "max_width": null,
      "min_height": null,
      "min_width": null,
      "object_fit": null,
      "object_position": null,
      "order": null,
      "overflow": null,
      "overflow_x": null,
      "overflow_y": null,
      "padding": null,
      "right": null,
      "top": null,
      "visibility": null,
      "width": null
     }
    },
    "aa77356552884ddbbcd7b4bc320414f3": {
     "model_module": "@jupyter-widgets/base",
     "model_module_version": "1.2.0",
     "model_name": "LayoutModel",
     "state": {
      "_model_module": "@jupyter-widgets/base",
      "_model_module_version": "1.2.0",
      "_model_name": "LayoutModel",
      "_view_count": null,
      "_view_module": "@jupyter-widgets/base",
      "_view_module_version": "1.2.0",
      "_view_name": "LayoutView",
      "align_content": null,
      "align_items": null,
      "align_self": null,
      "border": null,
      "bottom": null,
      "display": null,
      "flex": null,
      "flex_flow": null,
      "grid_area": null,
      "grid_auto_columns": null,
      "grid_auto_flow": null,
      "grid_auto_rows": null,
      "grid_column": null,
      "grid_gap": null,
      "grid_row": null,
      "grid_template_areas": null,
      "grid_template_columns": null,
      "grid_template_rows": null,
      "height": null,
      "justify_content": null,
      "justify_items": null,
      "left": null,
      "margin": null,
      "max_height": null,
      "max_width": null,
      "min_height": null,
      "min_width": null,
      "object_fit": null,
      "object_position": null,
      "order": null,
      "overflow": null,
      "overflow_x": null,
      "overflow_y": null,
      "padding": null,
      "right": null,
      "top": null,
      "visibility": null,
      "width": null
     }
    },
    "b62734d37476482a8f8f0e71c1ab611f": {
     "model_module": "@jupyter-widgets/controls",
     "model_module_version": "1.5.0",
     "model_name": "HBoxModel",
     "state": {
      "_dom_classes": [],
      "_model_module": "@jupyter-widgets/controls",
      "_model_module_version": "1.5.0",
      "_model_name": "HBoxModel",
      "_view_count": null,
      "_view_module": "@jupyter-widgets/controls",
      "_view_module_version": "1.5.0",
      "_view_name": "HBoxView",
      "box_style": "",
      "children": [
       "IPY_MODEL_33ca1dcd518846aa977faac036326846",
       "IPY_MODEL_5d8028166d904a6abe44161e079f6ba0",
       "IPY_MODEL_24cd61d3fa14432590b416f09246781e"
      ],
      "layout": "IPY_MODEL_651ef213276044d68d0aa068897b65de"
     }
    },
    "b63585053506446b8b883725c70de890": {
     "model_module": "@jupyter-widgets/controls",
     "model_module_version": "1.5.0",
     "model_name": "HTMLModel",
     "state": {
      "_dom_classes": [],
      "_model_module": "@jupyter-widgets/controls",
      "_model_module_version": "1.5.0",
      "_model_name": "HTMLModel",
      "_view_count": null,
      "_view_module": "@jupyter-widgets/controls",
      "_view_module_version": "1.5.0",
      "_view_name": "HTMLView",
      "description": "",
      "description_tooltip": null,
      "layout": "IPY_MODEL_34b2968a38c24feab364cdccb1865008",
      "placeholder": "​",
      "style": "IPY_MODEL_5e919a4a1a3047fea9aea3744325106f",
      "value": ""
     }
    },
    "bff7c3ead2954ecb9ecaffc47e952e7a": {
     "model_module": "@jupyter-widgets/controls",
     "model_module_version": "1.5.0",
     "model_name": "DescriptionStyleModel",
     "state": {
      "_model_module": "@jupyter-widgets/controls",
      "_model_module_version": "1.5.0",
      "_model_name": "DescriptionStyleModel",
      "_view_count": null,
      "_view_module": "@jupyter-widgets/base",
      "_view_module_version": "1.2.0",
      "_view_name": "StyleView",
      "description_width": ""
     }
    },
    "c77200f658fe416e8559d2411bd86ee1": {
     "model_module": "@jupyter-widgets/controls",
     "model_module_version": "1.5.0",
     "model_name": "DescriptionStyleModel",
     "state": {
      "_model_module": "@jupyter-widgets/controls",
      "_model_module_version": "1.5.0",
      "_model_name": "DescriptionStyleModel",
      "_view_count": null,
      "_view_module": "@jupyter-widgets/base",
      "_view_module_version": "1.2.0",
      "_view_name": "StyleView",
      "description_width": ""
     }
    },
    "cee1629ea5e041cfb32f40b588bdafbd": {
     "model_module": "@jupyter-widgets/base",
     "model_module_version": "1.2.0",
     "model_name": "LayoutModel",
     "state": {
      "_model_module": "@jupyter-widgets/base",
      "_model_module_version": "1.2.0",
      "_model_name": "LayoutModel",
      "_view_count": null,
      "_view_module": "@jupyter-widgets/base",
      "_view_module_version": "1.2.0",
      "_view_name": "LayoutView",
      "align_content": null,
      "align_items": null,
      "align_self": null,
      "border": null,
      "bottom": null,
      "display": null,
      "flex": null,
      "flex_flow": null,
      "grid_area": null,
      "grid_auto_columns": null,
      "grid_auto_flow": null,
      "grid_auto_rows": null,
      "grid_column": null,
      "grid_gap": null,
      "grid_row": null,
      "grid_template_areas": null,
      "grid_template_columns": null,
      "grid_template_rows": null,
      "height": null,
      "justify_content": null,
      "justify_items": null,
      "left": null,
      "margin": null,
      "max_height": null,
      "max_width": null,
      "min_height": null,
      "min_width": null,
      "object_fit": null,
      "object_position": null,
      "order": null,
      "overflow": null,
      "overflow_x": null,
      "overflow_y": null,
      "padding": null,
      "right": null,
      "top": null,
      "visibility": null,
      "width": null
     }
    },
    "dc5a262bd30246f7a666656ca8884f0d": {
     "model_module": "@jupyter-widgets/controls",
     "model_module_version": "1.5.0",
     "model_name": "FloatProgressModel",
     "state": {
      "_dom_classes": [],
      "_model_module": "@jupyter-widgets/controls",
      "_model_module_version": "1.5.0",
      "_model_name": "FloatProgressModel",
      "_view_count": null,
      "_view_module": "@jupyter-widgets/controls",
      "_view_module_version": "1.5.0",
      "_view_name": "ProgressView",
      "bar_style": "success",
      "description": "",
      "description_tooltip": null,
      "layout": "IPY_MODEL_1b868fa1592e4afeab25f0d6bed46992",
      "max": 29515,
      "min": 0,
      "orientation": "horizontal",
      "style": "IPY_MODEL_791ffd9e5feb42c5a30b19c585d4c8ca",
      "value": 29515
     }
    },
    "dd9095a327db4b00b2c039493aa12a04": {
     "model_module": "@jupyter-widgets/controls",
     "model_module_version": "1.5.0",
     "model_name": "ProgressStyleModel",
     "state": {
      "_model_module": "@jupyter-widgets/controls",
      "_model_module_version": "1.5.0",
      "_model_name": "ProgressStyleModel",
      "_view_count": null,
      "_view_module": "@jupyter-widgets/base",
      "_view_module_version": "1.2.0",
      "_view_name": "StyleView",
      "bar_color": null,
      "description_width": ""
     }
    },
    "de045f797dd84c258c59a95e1b9f16c3": {
     "model_module": "@jupyter-widgets/controls",
     "model_module_version": "1.5.0",
     "model_name": "DescriptionStyleModel",
     "state": {
      "_model_module": "@jupyter-widgets/controls",
      "_model_module_version": "1.5.0",
      "_model_name": "DescriptionStyleModel",
      "_view_count": null,
      "_view_module": "@jupyter-widgets/base",
      "_view_module_version": "1.2.0",
      "_view_name": "StyleView",
      "description_width": ""
     }
    },
    "de9424722b03404c85fdf60c91ba1c37": {
     "model_module": "@jupyter-widgets/controls",
     "model_module_version": "1.5.0",
     "model_name": "DescriptionStyleModel",
     "state": {
      "_model_module": "@jupyter-widgets/controls",
      "_model_module_version": "1.5.0",
      "_model_name": "DescriptionStyleModel",
      "_view_count": null,
      "_view_module": "@jupyter-widgets/base",
      "_view_module_version": "1.2.0",
      "_view_name": "StyleView",
      "description_width": ""
     }
    },
    "e59f1b67dbef4d72bfead0411cad1dda": {
     "model_module": "@jupyter-widgets/controls",
     "model_module_version": "1.5.0",
     "model_name": "HTMLModel",
     "state": {
      "_dom_classes": [],
      "_model_module": "@jupyter-widgets/controls",
      "_model_module_version": "1.5.0",
      "_model_name": "HTMLModel",
      "_view_count": null,
      "_view_module": "@jupyter-widgets/controls",
      "_view_module_version": "1.5.0",
      "_view_name": "HTMLView",
      "description": "",
      "description_tooltip": null,
      "layout": "IPY_MODEL_9b161079c4544d74a74c91daee9da9d3",
      "placeholder": "​",
      "style": "IPY_MODEL_de9424722b03404c85fdf60c91ba1c37",
      "value": " 29696/? [00:00&lt;00:00, 328375.27it/s]"
     }
    },
    "f068917894fa46a7806ca6c78cbea7ad": {
     "model_module": "@jupyter-widgets/controls",
     "model_module_version": "1.5.0",
     "model_name": "FloatProgressModel",
     "state": {
      "_dom_classes": [],
      "_model_module": "@jupyter-widgets/controls",
      "_model_module_version": "1.5.0",
      "_model_name": "FloatProgressModel",
      "_view_count": null,
      "_view_module": "@jupyter-widgets/controls",
      "_view_module_version": "1.5.0",
      "_view_name": "ProgressView",
      "bar_style": "success",
      "description": "",
      "description_tooltip": null,
      "layout": "IPY_MODEL_977d7b1af1b344ffaf9ec4bafafeeaf5",
      "max": 5148,
      "min": 0,
      "orientation": "horizontal",
      "style": "IPY_MODEL_429f6d23bcad468eb2a711aa9fea17e9",
      "value": 5148
     }
    },
    "fcd9f80b6403493e9f35ad4cd09ef070": {
     "model_module": "@jupyter-widgets/base",
     "model_module_version": "1.2.0",
     "model_name": "LayoutModel",
     "state": {
      "_model_module": "@jupyter-widgets/base",
      "_model_module_version": "1.2.0",
      "_model_name": "LayoutModel",
      "_view_count": null,
      "_view_module": "@jupyter-widgets/base",
      "_view_module_version": "1.2.0",
      "_view_name": "LayoutView",
      "align_content": null,
      "align_items": null,
      "align_self": null,
      "border": null,
      "bottom": null,
      "display": null,
      "flex": null,
      "flex_flow": null,
      "grid_area": null,
      "grid_auto_columns": null,
      "grid_auto_flow": null,
      "grid_auto_rows": null,
      "grid_column": null,
      "grid_gap": null,
      "grid_row": null,
      "grid_template_areas": null,
      "grid_template_columns": null,
      "grid_template_rows": null,
      "height": null,
      "justify_content": null,
      "justify_items": null,
      "left": null,
      "margin": null,
      "max_height": null,
      "max_width": null,
      "min_height": null,
      "min_width": null,
      "object_fit": null,
      "object_position": null,
      "order": null,
      "overflow": null,
      "overflow_x": null,
      "overflow_y": null,
      "padding": null,
      "right": null,
      "top": null,
      "visibility": null,
      "width": null
     }
    }
   }
  }
 },
 "nbformat": 4,
 "nbformat_minor": 5
}
