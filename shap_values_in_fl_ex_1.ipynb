{
 "cells": [
  {
   "cell_type": "markdown",
   "id": "298dfa70-a46d-4329-b1e5-b7944d8ade29",
   "metadata": {
    "id": "298dfa70-a46d-4329-b1e5-b7944d8ade29",
    "tags": []
   },
   "source": [
    "# Feature Engineering with SHAP values Experiment 1"
   ]
  },
  {
   "cell_type": "markdown",
   "id": "cfadba9b-4644-4998-bdeb-39dee05965cc",
   "metadata": {
    "id": "cfadba9b-4644-4998-bdeb-39dee05965cc"
   },
   "source": [
    "SHAP Images of server with different number of poisoned clients\n",
    "* number of malicious clients [0,1,2,3,4,5]"
   ]
  },
  {
   "cell_type": "markdown",
   "id": "0fa09c19-b79a-4d04-91f1-d27bd6be9260",
   "metadata": {
    "id": "0fa09c19-b79a-4d04-91f1-d27bd6be9260"
   },
   "source": [
    "SHAP Images right after poisoning attack\n",
    "* rounds [1,2,10,75,200]"
   ]
  },
  {
   "cell_type": "markdown",
   "id": "2a2f5fea-12fa-4413-be81-1126656be438",
   "metadata": {
    "id": "2a2f5fea-12fa-4413-be81-1126656be438"
   },
   "source": [
    "Summation of Differences SHAP Images right after poisoning attack\n",
    "* rounds [1,2,10,75,200]\n",
    "* 5 times"
   ]
  },
  {
   "cell_type": "markdown",
   "id": "2ccac5ea-7b1d-47c8-8a4e-c3d18bfe5c81",
   "metadata": {
    "id": "2ccac5ea-7b1d-47c8-8a4e-c3d18bfe5c81"
   },
   "source": [
    "## Google Colab"
   ]
  },
  {
   "cell_type": "code",
   "execution_count": null,
   "id": "d052516f-5361-4cf9-a1cc-6b0b291a7e45",
   "metadata": {
    "colab": {
     "base_uri": "https://localhost:8080/"
    },
    "id": "0265651c-c72f-43f7-b5e9-a3ea624b981c",
    "outputId": "8dda17ef-d274-4cc9-81b5-5a13b9a3c1fc"
   },
   "outputs": [],
   "source": [
    "from google.colab import drive\n",
    "drive.flush_and_unmount()\n",
    "drive.mount('/content/drive', force_remount=True)\n",
    "\n",
    "import sys\n",
    "sys.path.append('/content/drive/My Drive/Colab Notebooks')\n",
    "sys.path.append('/content/drive/My Drive/Colab Notebooks/federated_learning')\n",
    "\n",
    "!pip install shap==0.40.0"
   ]
  },
  {
   "cell_type": "markdown",
   "id": "b3550e57-ade5-4232-86c0-4030585df070",
   "metadata": {
    "id": "b3550e57-ade5-4232-86c0-4030585df070",
    "tags": []
   },
   "source": [
    "## Experiments"
   ]
  },
  {
   "cell_type": "code",
   "execution_count": null,
   "id": "652af317-4a22-4efc-adda-a19cb17141dd",
   "metadata": {
    "id": "652af317-4a22-4efc-adda-a19cb17141dd"
   },
   "outputs": [],
   "source": [
    "from federated_learning.utils import SHAPUtil, experiment_util, Visualizer\n",
    "from federated_learning import ClientPlane, Configuration, ObserverConfiguration\n",
    "from federated_learning.server import Server"
   ]
  },
  {
   "cell_type": "markdown",
   "id": "04d5a68f-c527-4aef-86b3-0f8ef24ec205",
   "metadata": {
    "id": "04d5a68f-c527-4aef-86b3-0f8ef24ec205",
    "tags": []
   },
   "source": [
    "# MNIST\n",
    "(1) 5 → 4,\n",
    "(2) 1 → 7,\n",
    "(3) 3 → 8,"
   ]
  },
  {
   "cell_type": "code",
   "execution_count": null,
   "id": "263060ac-7edc-4e96-8a27-5cea91b7618d",
   "metadata": {
    "id": "263060ac-7edc-4e96-8a27-5cea91b7618d"
   },
   "outputs": [],
   "source": [
    "from federated_learning.nets import MNISTCNN\n",
    "from federated_learning.dataset import MNISTDataset\n",
    "import os\n",
    "config = Configuration()\n",
    "config.POISONED_CLIENTS = 0\n",
    "config.DATA_POISONING_PERCENTAGE = 1\n",
    "config.DATASET = MNISTDataset\n",
    "config.MODELNAME = config.MNIST_NAME\n",
    "config.NETWORK = MNISTCNN\n",
    "observer_config = ObserverConfiguration()\n",
    "neutral_label = 2"
   ]
  },
  {
   "cell_type": "code",
   "execution_count": null,
   "id": "00c85810-ebed-4b4e-a093-5fd61d41f194",
   "metadata": {
    "id": "00c85810-ebed-4b4e-a093-5fd61d41f194"
   },
   "outputs": [],
   "source": [
    "# Google Colab Settigns\n",
    "config.TEMP = os.path.join('/content/drive/My Drive/Colab Notebooks/temp')\n",
    "config.FMNIST_DATASET_PATH = os.path.join('/content/data/fmnist')\n",
    "config.MNIST_DATASET_PATH = os.path.join('/content/data/mnist')\n",
    "config.CIFAR10_DATASET_PATH = os.path.join('/content/data/cifar10')\n",
    "config.VM_URL = \"none\""
   ]
  },
  {
   "cell_type": "code",
   "execution_count": null,
   "id": "4f8e9163-199f-4570-9e62-06c76a1099c6",
   "metadata": {
    "colab": {
     "base_uri": "https://localhost:8080/"
    },
    "id": "4f8e9163-199f-4570-9e62-06c76a1099c6",
    "outputId": "158fe6e4-81c5-4a2a-9cb7-95acde4245b1"
   },
   "outputs": [],
   "source": [
    "data = config.DATASET(config)\n",
    "shap_util = SHAPUtil(data.test_dataloader) \n",
    "server = Server(config, observer_config,data.train_dataloader, data.test_dataloader, shap_util)\n",
    "client_plane = ClientPlane(config, observer_config, data, shap_util)\n",
    "visualizer = Visualizer(shap_util)"
   ]
  },
  {
   "cell_type": "code",
   "execution_count": null,
   "id": "fed17f23-8466-4113-9aac-1f1f2d467afa",
   "metadata": {
    "id": "fed17f23-8466-4113-9aac-1f1f2d467afa",
    "scrolled": true,
    "tags": []
   },
   "outputs": [],
   "source": [
    "import numpy as np\n",
    "import copy\n",
    "import torch\n",
    "for i in range(200):\n",
    "    experiment_util.set_rounds(client_plane, server, i+1)\n",
    "    experiment_util.run_round(client_plane, server, i+1)\n",
    "print(\"Run 199 finished\")\n",
    "old_params = copy.deepcopy(server.get_nn_parameters())\n",
    "file = \"./temp/models/ex2/MNIST_round_199.model\"\n",
    "if not os.path.exists(os.path.dirname(file)):\n",
    "        os.makedirs(os.path.dirname(file))\n",
    "torch.save(server.net.state_dict(), file)"
   ]
  },
  {
   "cell_type": "markdown",
   "id": "18e51796-b060-459a-a750-f2fc8c673fc8",
   "metadata": {
    "id": "18e51796-b060-459a-a750-f2fc8c673fc8",
    "tags": []
   },
   "source": [
    "### alpha (5,4)"
   ]
  },
  {
   "cell_type": "code",
   "execution_count": null,
   "id": "e88c1f0e-8a6c-4c66-81b8-53b4988c8063",
   "metadata": {
    "id": "e88c1f0e-8a6c-4c66-81b8-53b4988c8063"
   },
   "outputs": [],
   "source": [
    "config.FROM_LABEL = 5\n",
    "config.TO_LABEL = 4\n",
    "\n",
    "accuracy_list = []\n",
    "recall_list = []"
   ]
  },
  {
   "cell_type": "code",
   "execution_count": null,
   "id": "f95d8664-1a63-45c1-a86f-d7c71e684370",
   "metadata": {
    "id": "f95d8664-1a63-45c1-a86f-d7c71e684370",
    "scrolled": true,
    "tags": []
   },
   "outputs": [],
   "source": [
    "server.net =  MNISTCNN()\n",
    "server.net.load_state_dict(torch.load('./temp/models/ex2/MNIST_round_199.model'))\n",
    "old_params = copy.deepcopy(server.get_nn_parameters())\n",
    "\n",
    "for j in range(config.CLIENTS_PER_ROUND + 1):\n",
    "    client_plane.reset_default_client_nets()\n",
    "    server.update_nn_parameters(old_params)\n",
    "    file_name = './results/ex2/MNIST/5_4/_run_shap_values_{}_poisoned_clients_alpha_5_4.pdf'.format(j)\n",
    "    \n",
    "    config.POISONED_CLIENTS = j\n",
    "    experiment_util.update_configs(client_plane, server, config, observer_config)\n",
    "    client_plane.poison_clients()\n",
    "    clean_clients = experiment_util.select_random_clean(client_plane, config, config.CLIENTS_PER_ROUND - j)\n",
    "    poisoned_clients = experiment_util.select_poisoned(client_plane, j)\n",
    "    clients = [*clean_clients, *poisoned_clients]\n",
    "    experiment_util.run_round_with(clients, old_params, client_plane, server, 200)\n",
    "    \n",
    "    server.test()\n",
    "    server_shap = server.get_shap_values()\n",
    "    recall, precision, accuracy = server.analize_test()\n",
    "    accuracy_list.append(accuracy)\n",
    "    recall_list.append(recall)\n",
    "    visualizer.plot_shap_values(server_shap,file_name)\n",
    "    \n",
    "    client_plane.reset_poisoning_attack()"
   ]
  },
  {
   "cell_type": "code",
   "execution_count": null,
   "id": "9c951659-99b5-4bf1-a915-ddf91539e15d",
   "metadata": {
    "id": "9c951659-99b5-4bf1-a915-ddf91539e15d"
   },
   "outputs": [],
   "source": [
    "# Run 0\n",
    "print(accuracy_list)\n",
    "print(recall_list)"
   ]
  },
  {
   "cell_type": "markdown",
   "id": "b7af53b1-4d1f-458d-aa3c-c119135fd323",
   "metadata": {
    "id": "b7af53b1-4d1f-458d-aa3c-c119135fd323",
    "tags": []
   },
   "source": [
    "# FashionMNIST\n",
    "For Fashion-MNIST we experiment with \n",
    "(1) 5: sandal → 4: coat,\n",
    "(2) 1: trouser → 3: dress, and \n",
    "(3) 8: Bag → 9: Ankle Boot.\n",
    "['T-shirt/top', 'Trouser', 'Pullover', 'Dress', 'Coat', 'Sandal', 'Shirt', 'Sneaker',  'Bag', 'Ankle Boot']\n"
   ]
  },
  {
   "cell_type": "code",
   "execution_count": null,
   "id": "e5fc8f48-d7cc-4a72-a41d-407fe9945f01",
   "metadata": {
    "id": "e5fc8f48-d7cc-4a72-a41d-407fe9945f01"
   },
   "outputs": [],
   "source": [
    "from federated_learning.nets import FMNISTCNN\n",
    "from federated_learning.dataset import FMNISTDataset\n",
    "import os\n",
    "config = Configuration()\n",
    "config.POISONED_CLIENTS = 0\n",
    "config.DATA_POISONING_PERCENTAGE = 1\n",
    "config.DATASET = FMNISTDataset\n",
    "config.MODELNAME = config.FMNIST_NAME\n",
    "config.NETWORK = FMNISTCNN\n",
    "observer_config = ObserverConfiguration()\n",
    "neutral_label = 2"
   ]
  },
  {
   "cell_type": "code",
   "execution_count": null,
   "id": "62280406-ac53-4bdb-8552-25cf625637e7",
   "metadata": {
    "id": "62280406-ac53-4bdb-8552-25cf625637e7"
   },
   "outputs": [],
   "source": [
    "# Google Colab Settigns\n",
    "config.TEMP = os.path.join('/content/drive/My Drive/Colab Notebooks/temp')\n",
    "config.FMNIST_DATASET_PATH = os.path.join('/content/data/fmnist')\n",
    "config.MNIST_DATASET_PATH = os.path.join('/content/data/mnist')\n",
    "config.CIFAR10_DATASET_PATH = os.path.join('/content/data/cifar10')\n",
    "config.VM_URL = \"none\""
   ]
  },
  {
   "cell_type": "code",
   "execution_count": null,
   "id": "5a07d207-0c52-4996-a50d-7955e9b4cb14",
   "metadata": {
    "colab": {
     "base_uri": "https://localhost:8080/"
    },
    "id": "5a07d207-0c52-4996-a50d-7955e9b4cb14",
    "outputId": "fa5126db-3bc6-4969-c14b-fcd7aa370d6f"
   },
   "outputs": [],
   "source": [
    "data = config.DATASET(config)\n",
    "shap_util = SHAPUtil(data.test_dataloader) \n",
    "server = Server(config, observer_config,data.train_dataloader, data.test_dataloader, shap_util)\n",
    "client_plane = ClientPlane(config, observer_config, data, shap_util)\n",
    "visualizer = Visualizer(shap_util)"
   ]
  },
  {
   "cell_type": "code",
   "execution_count": null,
   "id": "ad911429-cded-423d-9841-e367cde55b02",
   "metadata": {
    "id": "ad911429-cded-423d-9841-e367cde55b02"
   },
   "outputs": [],
   "source": [
    "import numpy as np\n",
    "import copy\n",
    "import torch\n",
    "for i in range(200):\n",
    "    experiment_util.set_rounds(client_plane, server, i+1)\n",
    "    experiment_util.run_round(client_plane, server, i+1)\n",
    "print(\"Run 199 finished\")\n",
    "old_params = copy.deepcopy(server.get_nn_parameters())\n",
    "file = \"./temp/models/ex2/FMNIST_round_199.model\"\n",
    "if not os.path.exists(os.path.dirname(file)):\n",
    "    os.makedirs(os.path.dirname(file))\n",
    "torch.save(server.net.state_dict(), file)"
   ]
  },
  {
   "cell_type": "markdown",
   "id": "8e79c752-2627-438b-bf30-09231f37200f",
   "metadata": {
    "id": "8e79c752-2627-438b-bf30-09231f37200f"
   },
   "source": [
    "## Experiment"
   ]
  },
  {
   "cell_type": "code",
   "execution_count": null,
   "id": "f802d160-db26-4243-b683-6dd956e14eb6",
   "metadata": {
    "id": "1f6442e6-d766-48e9-81fd-2e73df4479ef"
   },
   "outputs": [],
   "source": [
    "from federated_learning.nets import FMNISTCNN\n",
    "import torch\n",
    "import copy\n",
    "config.FROM_LABEL = 5\n",
    "config.TO_LABEL = 4\n",
    "\n",
    "server.net =  FMNISTCNN()\n",
    "server.net.load_state_dict(torch.load('./temp/models/ex2/FMNIST_round_199.model'))\n",
    "old_params = copy.deepcopy(server.get_nn_parameters())\n",
    "\n",
    "accuracy_list = []\n",
    "recall_list = []"
   ]
  },
  {
   "cell_type": "code",
   "execution_count": null,
   "id": "c965950d-2974-4156-8ba2-fb8d5fd635f6",
   "metadata": {
    "id": "c965950d-2974-4156-8ba2-fb8d5fd635f6"
   },
   "outputs": [],
   "source": [
    "for j in range(config.CLIENTS_PER_ROUND + 1):\n",
    "    client_plane.reset_default_client_nets()\n",
    "    server.update_nn_parameters(old_params)\n",
    "    file_name = './results/ex3/FMNIST/5_4/3_run_shap_values_{}_poisoned_clients_alpha_5_4.pdf'.format(j)\n",
    "    \n",
    "    config.POISONED_CLIENTS = j\n",
    "    experiment_util.update_configs(client_plane, server, config, observer_config)\n",
    "    client_plane.poison_clients()\n",
    "    clean_clients = experiment_util.select_random_clean(client_plane, config, config.CLIENTS_PER_ROUND - j)\n",
    "    poisoned_clients = experiment_util.select_poisoned(client_plane, j)\n",
    "    clients = [*clean_clients, *poisoned_clients]\n",
    "    experiment_util.run_round_with(clients, old_params, client_plane, server, 200)\n",
    "    \n",
    "    server.test()\n",
    "    server_shap = server.get_shap_values()\n",
    "    recall, precision, accuracy = server.analize_test()\n",
    "    accuracy_list.append(accuracy)\n",
    "    recall_list.append(recall)\n",
    "    visualizer.plot_shap_values(server_shap,file_name)\n",
    "    \n",
    "    client_plane.reset_poisoning_attack()"
   ]
  },
  {
   "cell_type": "code",
   "execution_count": null,
   "id": "LeiZ0vabCKHe",
   "metadata": {
    "id": "LeiZ0vabCKHe"
   },
   "outputs": [],
   "source": [
    "print(accuracy_list)\n",
    "print(recall_list)"
   ]
  }
 ],
 "metadata": {
  "colab": {
   "name": "shap_values_in_fl_ex_1.ipynb",
   "provenance": []
  },
  "kernelspec": {
   "display_name": "Python 3 (ipykernel)",
   "language": "python",
   "name": "python3"
  },
  "language_info": {
   "codemirror_mode": {
    "name": "ipython",
    "version": 3
   },
   "file_extension": ".py",
   "mimetype": "text/x-python",
   "name": "python",
   "nbconvert_exporter": "python",
   "pygments_lexer": "ipython3",
   "version": "3.10.5"
  }
 },
 "nbformat": 4,
 "nbformat_minor": 5
}
